{
 "cells": [
  {
   "cell_type": "markdown",
   "id": "3b1f6f13",
   "metadata": {},
   "source": [
    "# ***Cleaning the Dataset***"
   ]
  },
  {
   "cell_type": "markdown",
   "id": "eba9d082",
   "metadata": {},
   "source": [
    "In this Jupyter we make some data cleaning and feature engineering to prepare the best set of variables."
   ]
  },
  {
   "cell_type": "code",
   "execution_count": 93,
   "id": "7e231c50",
   "metadata": {},
   "outputs": [],
   "source": [
    "import pandas as pd\n",
    "import numpy as np"
   ]
  },
  {
   "cell_type": "markdown",
   "id": "8fb45bb9",
   "metadata": {},
   "source": [
    "## Import and explore:"
   ]
  },
  {
   "cell_type": "code",
   "execution_count": 140,
   "id": "245a7910",
   "metadata": {},
   "outputs": [
    {
     "data": {
      "text/html": [
       "<div>\n",
       "<style scoped>\n",
       "    .dataframe tbody tr th:only-of-type {\n",
       "        vertical-align: middle;\n",
       "    }\n",
       "\n",
       "    .dataframe tbody tr th {\n",
       "        vertical-align: top;\n",
       "    }\n",
       "\n",
       "    .dataframe thead th {\n",
       "        text-align: right;\n",
       "    }\n",
       "</style>\n",
       "<table border=\"1\" class=\"dataframe\">\n",
       "  <thead>\n",
       "    <tr style=\"text-align: right;\">\n",
       "      <th></th>\n",
       "      <th>id</th>\n",
       "      <th>carat</th>\n",
       "      <th>cut</th>\n",
       "      <th>color</th>\n",
       "      <th>clarity</th>\n",
       "      <th>depth</th>\n",
       "      <th>table</th>\n",
       "      <th>x</th>\n",
       "      <th>y</th>\n",
       "      <th>z</th>\n",
       "      <th>price</th>\n",
       "    </tr>\n",
       "  </thead>\n",
       "  <tbody>\n",
       "    <tr>\n",
       "      <th>0</th>\n",
       "      <td>0</td>\n",
       "      <td>1.14</td>\n",
       "      <td>Ideal</td>\n",
       "      <td>G</td>\n",
       "      <td>VVS2</td>\n",
       "      <td>61.0</td>\n",
       "      <td>56.0</td>\n",
       "      <td>6.74</td>\n",
       "      <td>6.76</td>\n",
       "      <td>4.12</td>\n",
       "      <td>9013</td>\n",
       "    </tr>\n",
       "    <tr>\n",
       "      <th>1</th>\n",
       "      <td>1</td>\n",
       "      <td>0.76</td>\n",
       "      <td>Ideal</td>\n",
       "      <td>H</td>\n",
       "      <td>VS2</td>\n",
       "      <td>62.7</td>\n",
       "      <td>57.0</td>\n",
       "      <td>5.86</td>\n",
       "      <td>5.82</td>\n",
       "      <td>3.66</td>\n",
       "      <td>2692</td>\n",
       "    </tr>\n",
       "    <tr>\n",
       "      <th>2</th>\n",
       "      <td>2</td>\n",
       "      <td>0.84</td>\n",
       "      <td>Ideal</td>\n",
       "      <td>G</td>\n",
       "      <td>VS1</td>\n",
       "      <td>61.4</td>\n",
       "      <td>56.0</td>\n",
       "      <td>6.04</td>\n",
       "      <td>6.15</td>\n",
       "      <td>3.74</td>\n",
       "      <td>4372</td>\n",
       "    </tr>\n",
       "    <tr>\n",
       "      <th>3</th>\n",
       "      <td>3</td>\n",
       "      <td>1.55</td>\n",
       "      <td>Ideal</td>\n",
       "      <td>H</td>\n",
       "      <td>VS1</td>\n",
       "      <td>62.0</td>\n",
       "      <td>57.0</td>\n",
       "      <td>7.37</td>\n",
       "      <td>7.43</td>\n",
       "      <td>4.59</td>\n",
       "      <td>13665</td>\n",
       "    </tr>\n",
       "    <tr>\n",
       "      <th>4</th>\n",
       "      <td>4</td>\n",
       "      <td>0.30</td>\n",
       "      <td>Ideal</td>\n",
       "      <td>G</td>\n",
       "      <td>SI2</td>\n",
       "      <td>61.9</td>\n",
       "      <td>57.0</td>\n",
       "      <td>4.28</td>\n",
       "      <td>4.31</td>\n",
       "      <td>2.66</td>\n",
       "      <td>422</td>\n",
       "    </tr>\n",
       "  </tbody>\n",
       "</table>\n",
       "</div>"
      ],
      "text/plain": [
       "   id  carat    cut color clarity  depth  table     x     y     z  price\n",
       "0   0   1.14  Ideal     G    VVS2   61.0   56.0  6.74  6.76  4.12   9013\n",
       "1   1   0.76  Ideal     H     VS2   62.7   57.0  5.86  5.82  3.66   2692\n",
       "2   2   0.84  Ideal     G     VS1   61.4   56.0  6.04  6.15  3.74   4372\n",
       "3   3   1.55  Ideal     H     VS1   62.0   57.0  7.37  7.43  4.59  13665\n",
       "4   4   0.30  Ideal     G     SI2   61.9   57.0  4.28  4.31  2.66    422"
      ]
     },
     "execution_count": 140,
     "metadata": {},
     "output_type": "execute_result"
    }
   ],
   "source": [
    "data = pd.read_csv(\"DATA/train.csv\")\n",
    "data.head()"
   ]
  },
  {
   "cell_type": "code",
   "execution_count": 95,
   "id": "485de33a",
   "metadata": {},
   "outputs": [
    {
     "data": {
      "text/plain": [
       "(40455, 11)"
      ]
     },
     "execution_count": 95,
     "metadata": {},
     "output_type": "execute_result"
    }
   ],
   "source": [
    "data.shape"
   ]
  },
  {
   "cell_type": "code",
   "execution_count": 96,
   "id": "d351334b",
   "metadata": {},
   "outputs": [
    {
     "name": "stdout",
     "output_type": "stream",
     "text": [
      "<class 'pandas.core.frame.DataFrame'>\n",
      "RangeIndex: 40455 entries, 0 to 40454\n",
      "Data columns (total 11 columns):\n",
      " #   Column   Non-Null Count  Dtype  \n",
      "---  ------   --------------  -----  \n",
      " 0   id       40455 non-null  int64  \n",
      " 1   carat    40455 non-null  float64\n",
      " 2   cut      40455 non-null  object \n",
      " 3   color    40455 non-null  object \n",
      " 4   clarity  40455 non-null  object \n",
      " 5   depth    40455 non-null  float64\n",
      " 6   table    40455 non-null  float64\n",
      " 7   x        40455 non-null  float64\n",
      " 8   y        40455 non-null  float64\n",
      " 9   z        40455 non-null  float64\n",
      " 10  price    40455 non-null  int64  \n",
      "dtypes: float64(6), int64(2), object(3)\n",
      "memory usage: 3.4+ MB\n"
     ]
    }
   ],
   "source": [
    "data.info()"
   ]
  },
  {
   "cell_type": "code",
   "execution_count": 97,
   "id": "6a628beb",
   "metadata": {},
   "outputs": [
    {
     "data": {
      "text/plain": [
       "id           int64\n",
       "carat      float64\n",
       "cut         object\n",
       "color       object\n",
       "clarity     object\n",
       "depth      float64\n",
       "table      float64\n",
       "x          float64\n",
       "y          float64\n",
       "z          float64\n",
       "price        int64\n",
       "dtype: object"
      ]
     },
     "execution_count": 97,
     "metadata": {},
     "output_type": "execute_result"
    }
   ],
   "source": [
    "data.dtypes"
   ]
  },
  {
   "cell_type": "code",
   "execution_count": 98,
   "id": "5a6971d9",
   "metadata": {},
   "outputs": [
    {
     "data": {
      "text/plain": [
       "id         0\n",
       "carat      0\n",
       "cut        0\n",
       "color      0\n",
       "clarity    0\n",
       "depth      0\n",
       "table      0\n",
       "x          0\n",
       "y          0\n",
       "z          0\n",
       "price      0\n",
       "dtype: int64"
      ]
     },
     "execution_count": 98,
     "metadata": {},
     "output_type": "execute_result"
    }
   ],
   "source": [
    "data.isnull().sum()"
   ]
  },
  {
   "cell_type": "markdown",
   "id": "ad6fe30b",
   "metadata": {},
   "source": [
    "# Evaluating colinearity:"
   ]
  },
  {
   "cell_type": "code",
   "execution_count": 99,
   "id": "00ecbd5c",
   "metadata": {},
   "outputs": [
    {
     "data": {
      "text/html": [
       "<div>\n",
       "<style scoped>\n",
       "    .dataframe tbody tr th:only-of-type {\n",
       "        vertical-align: middle;\n",
       "    }\n",
       "\n",
       "    .dataframe tbody tr th {\n",
       "        vertical-align: top;\n",
       "    }\n",
       "\n",
       "    .dataframe thead th {\n",
       "        text-align: right;\n",
       "    }\n",
       "</style>\n",
       "<table border=\"1\" class=\"dataframe\">\n",
       "  <thead>\n",
       "    <tr style=\"text-align: right;\">\n",
       "      <th></th>\n",
       "      <th>id</th>\n",
       "      <th>carat</th>\n",
       "      <th>depth</th>\n",
       "      <th>table</th>\n",
       "      <th>x</th>\n",
       "      <th>y</th>\n",
       "      <th>z</th>\n",
       "      <th>price</th>\n",
       "    </tr>\n",
       "  </thead>\n",
       "  <tbody>\n",
       "    <tr>\n",
       "      <th>id</th>\n",
       "      <td>1.000000</td>\n",
       "      <td>-0.003349</td>\n",
       "      <td>0.007690</td>\n",
       "      <td>-0.007495</td>\n",
       "      <td>-0.003985</td>\n",
       "      <td>-0.003997</td>\n",
       "      <td>-0.003010</td>\n",
       "      <td>-0.004065</td>\n",
       "    </tr>\n",
       "    <tr>\n",
       "      <th>carat</th>\n",
       "      <td>-0.003349</td>\n",
       "      <td>1.000000</td>\n",
       "      <td>0.025563</td>\n",
       "      <td>0.181437</td>\n",
       "      <td>0.976119</td>\n",
       "      <td>0.968747</td>\n",
       "      <td>0.969643</td>\n",
       "      <td>0.921128</td>\n",
       "    </tr>\n",
       "    <tr>\n",
       "      <th>depth</th>\n",
       "      <td>0.007690</td>\n",
       "      <td>0.025563</td>\n",
       "      <td>1.000000</td>\n",
       "      <td>-0.297741</td>\n",
       "      <td>-0.028409</td>\n",
       "      <td>-0.031153</td>\n",
       "      <td>0.093987</td>\n",
       "      <td>-0.015052</td>\n",
       "    </tr>\n",
       "    <tr>\n",
       "      <th>table</th>\n",
       "      <td>-0.007495</td>\n",
       "      <td>0.181437</td>\n",
       "      <td>-0.297741</td>\n",
       "      <td>1.000000</td>\n",
       "      <td>0.195592</td>\n",
       "      <td>0.187326</td>\n",
       "      <td>0.154194</td>\n",
       "      <td>0.127691</td>\n",
       "    </tr>\n",
       "    <tr>\n",
       "      <th>x</th>\n",
       "      <td>-0.003985</td>\n",
       "      <td>0.976119</td>\n",
       "      <td>-0.028409</td>\n",
       "      <td>0.195592</td>\n",
       "      <td>1.000000</td>\n",
       "      <td>0.991276</td>\n",
       "      <td>0.986062</td>\n",
       "      <td>0.884874</td>\n",
       "    </tr>\n",
       "    <tr>\n",
       "      <th>y</th>\n",
       "      <td>-0.003997</td>\n",
       "      <td>0.968747</td>\n",
       "      <td>-0.031153</td>\n",
       "      <td>0.187326</td>\n",
       "      <td>0.991276</td>\n",
       "      <td>1.000000</td>\n",
       "      <td>0.980160</td>\n",
       "      <td>0.880575</td>\n",
       "    </tr>\n",
       "    <tr>\n",
       "      <th>z</th>\n",
       "      <td>-0.003010</td>\n",
       "      <td>0.969643</td>\n",
       "      <td>0.093987</td>\n",
       "      <td>0.154194</td>\n",
       "      <td>0.986062</td>\n",
       "      <td>0.980160</td>\n",
       "      <td>1.000000</td>\n",
       "      <td>0.875011</td>\n",
       "    </tr>\n",
       "    <tr>\n",
       "      <th>price</th>\n",
       "      <td>-0.004065</td>\n",
       "      <td>0.921128</td>\n",
       "      <td>-0.015052</td>\n",
       "      <td>0.127691</td>\n",
       "      <td>0.884874</td>\n",
       "      <td>0.880575</td>\n",
       "      <td>0.875011</td>\n",
       "      <td>1.000000</td>\n",
       "    </tr>\n",
       "  </tbody>\n",
       "</table>\n",
       "</div>"
      ],
      "text/plain": [
       "             id     carat     depth     table         x         y         z  \\\n",
       "id     1.000000 -0.003349  0.007690 -0.007495 -0.003985 -0.003997 -0.003010   \n",
       "carat -0.003349  1.000000  0.025563  0.181437  0.976119  0.968747  0.969643   \n",
       "depth  0.007690  0.025563  1.000000 -0.297741 -0.028409 -0.031153  0.093987   \n",
       "table -0.007495  0.181437 -0.297741  1.000000  0.195592  0.187326  0.154194   \n",
       "x     -0.003985  0.976119 -0.028409  0.195592  1.000000  0.991276  0.986062   \n",
       "y     -0.003997  0.968747 -0.031153  0.187326  0.991276  1.000000  0.980160   \n",
       "z     -0.003010  0.969643  0.093987  0.154194  0.986062  0.980160  1.000000   \n",
       "price -0.004065  0.921128 -0.015052  0.127691  0.884874  0.880575  0.875011   \n",
       "\n",
       "          price  \n",
       "id    -0.004065  \n",
       "carat  0.921128  \n",
       "depth -0.015052  \n",
       "table  0.127691  \n",
       "x      0.884874  \n",
       "y      0.880575  \n",
       "z      0.875011  \n",
       "price  1.000000  "
      ]
     },
     "execution_count": 99,
     "metadata": {},
     "output_type": "execute_result"
    }
   ],
   "source": [
    "data.corr()"
   ]
  },
  {
   "cell_type": "markdown",
   "id": "c8f01ed8",
   "metadata": {},
   "source": [
    "x, y and z are strongly correlated with carats (in fact, carat is a function of x,y,z)"
   ]
  },
  {
   "cell_type": "code",
   "execution_count": 141,
   "id": "656bf9ff",
   "metadata": {},
   "outputs": [],
   "source": [
    "data.drop(columns=[\"x\",\"y\",\"z\"], inplace=True)"
   ]
  },
  {
   "cell_type": "code",
   "execution_count": 101,
   "id": "2e8296fb",
   "metadata": {},
   "outputs": [
    {
     "data": {
      "text/html": [
       "<div>\n",
       "<style scoped>\n",
       "    .dataframe tbody tr th:only-of-type {\n",
       "        vertical-align: middle;\n",
       "    }\n",
       "\n",
       "    .dataframe tbody tr th {\n",
       "        vertical-align: top;\n",
       "    }\n",
       "\n",
       "    .dataframe thead th {\n",
       "        text-align: right;\n",
       "    }\n",
       "</style>\n",
       "<table border=\"1\" class=\"dataframe\">\n",
       "  <thead>\n",
       "    <tr style=\"text-align: right;\">\n",
       "      <th></th>\n",
       "      <th>id</th>\n",
       "      <th>carat</th>\n",
       "      <th>cut</th>\n",
       "      <th>color</th>\n",
       "      <th>clarity</th>\n",
       "      <th>depth</th>\n",
       "      <th>table</th>\n",
       "      <th>price</th>\n",
       "    </tr>\n",
       "  </thead>\n",
       "  <tbody>\n",
       "    <tr>\n",
       "      <th>0</th>\n",
       "      <td>0</td>\n",
       "      <td>1.14</td>\n",
       "      <td>Ideal</td>\n",
       "      <td>G</td>\n",
       "      <td>VVS2</td>\n",
       "      <td>61.0</td>\n",
       "      <td>56.0</td>\n",
       "      <td>9013</td>\n",
       "    </tr>\n",
       "    <tr>\n",
       "      <th>1</th>\n",
       "      <td>1</td>\n",
       "      <td>0.76</td>\n",
       "      <td>Ideal</td>\n",
       "      <td>H</td>\n",
       "      <td>VS2</td>\n",
       "      <td>62.7</td>\n",
       "      <td>57.0</td>\n",
       "      <td>2692</td>\n",
       "    </tr>\n",
       "    <tr>\n",
       "      <th>2</th>\n",
       "      <td>2</td>\n",
       "      <td>0.84</td>\n",
       "      <td>Ideal</td>\n",
       "      <td>G</td>\n",
       "      <td>VS1</td>\n",
       "      <td>61.4</td>\n",
       "      <td>56.0</td>\n",
       "      <td>4372</td>\n",
       "    </tr>\n",
       "    <tr>\n",
       "      <th>3</th>\n",
       "      <td>3</td>\n",
       "      <td>1.55</td>\n",
       "      <td>Ideal</td>\n",
       "      <td>H</td>\n",
       "      <td>VS1</td>\n",
       "      <td>62.0</td>\n",
       "      <td>57.0</td>\n",
       "      <td>13665</td>\n",
       "    </tr>\n",
       "    <tr>\n",
       "      <th>4</th>\n",
       "      <td>4</td>\n",
       "      <td>0.30</td>\n",
       "      <td>Ideal</td>\n",
       "      <td>G</td>\n",
       "      <td>SI2</td>\n",
       "      <td>61.9</td>\n",
       "      <td>57.0</td>\n",
       "      <td>422</td>\n",
       "    </tr>\n",
       "  </tbody>\n",
       "</table>\n",
       "</div>"
      ],
      "text/plain": [
       "   id  carat    cut color clarity  depth  table  price\n",
       "0   0   1.14  Ideal     G    VVS2   61.0   56.0   9013\n",
       "1   1   0.76  Ideal     H     VS2   62.7   57.0   2692\n",
       "2   2   0.84  Ideal     G     VS1   61.4   56.0   4372\n",
       "3   3   1.55  Ideal     H     VS1   62.0   57.0  13665\n",
       "4   4   0.30  Ideal     G     SI2   61.9   57.0    422"
      ]
     },
     "execution_count": 101,
     "metadata": {},
     "output_type": "execute_result"
    }
   ],
   "source": [
    "data.head()"
   ]
  },
  {
   "cell_type": "markdown",
   "id": "562b97dd",
   "metadata": {},
   "source": [
    "# Handling categorical data:"
   ]
  },
  {
   "cell_type": "markdown",
   "id": "7eefb0d6",
   "metadata": {},
   "source": [
    "\"cut\" is a scaled feature, so it makes sense to be converted to numerical:"
   ]
  },
  {
   "cell_type": "code",
   "execution_count": 102,
   "id": "57de0380",
   "metadata": {},
   "outputs": [
    {
     "data": {
      "text/plain": [
       "array(['Ideal', 'Fair', 'Very Good', 'Premium', 'Good'], dtype=object)"
      ]
     },
     "execution_count": 102,
     "metadata": {},
     "output_type": "execute_result"
    }
   ],
   "source": [
    "data.cut.unique()"
   ]
  },
  {
   "cell_type": "code",
   "execution_count": 142,
   "id": "e8a30299",
   "metadata": {},
   "outputs": [],
   "source": [
    "cutval = {\"Fair\":1, \"Good\":2, \"Very Good\":3, \"Premium\":4, \"Ideal\":5}"
   ]
  },
  {
   "cell_type": "code",
   "execution_count": 143,
   "id": "6a018e82",
   "metadata": {},
   "outputs": [],
   "source": [
    "data.cut = data.cut.apply(lambda x: cutval[x])"
   ]
  },
  {
   "cell_type": "code",
   "execution_count": 105,
   "id": "c7255557",
   "metadata": {},
   "outputs": [
    {
     "data": {
      "text/plain": [
       "array([5, 1, 3, 4, 2])"
      ]
     },
     "execution_count": 105,
     "metadata": {},
     "output_type": "execute_result"
    }
   ],
   "source": [
    "data.cut.unique()"
   ]
  },
  {
   "cell_type": "markdown",
   "id": "49ae8a41",
   "metadata": {},
   "source": [
    "the same with \"clarity\" (see https://www.info-diamond.com/polished/clarity.html for info) :"
   ]
  },
  {
   "cell_type": "code",
   "execution_count": 106,
   "id": "4e97568c",
   "metadata": {
    "scrolled": true
   },
   "outputs": [
    {
     "data": {
      "text/plain": [
       "array(['VVS2', 'VS2', 'VS1', 'SI2', 'SI1', 'VVS1', 'IF', 'I1'],\n",
       "      dtype=object)"
      ]
     },
     "execution_count": 106,
     "metadata": {},
     "output_type": "execute_result"
    }
   ],
   "source": [
    "data.clarity.unique()"
   ]
  },
  {
   "cell_type": "code",
   "execution_count": 144,
   "id": "864b0d32",
   "metadata": {},
   "outputs": [],
   "source": [
    "clarval = {\"FL\":12, \"IF\":11, \"VVS1\":10, \"VVS2\":9, \"VS1\":8, \"VS2\":7, \"SI1\":6, \"SI2\":5, \"SI3\":4, \"I1\":3, \"I2\":2, \"I3\":1}"
   ]
  },
  {
   "cell_type": "code",
   "execution_count": 145,
   "id": "f75bbff8",
   "metadata": {},
   "outputs": [],
   "source": [
    "data.clarity = data.clarity.apply(lambda x: clarval[x])"
   ]
  },
  {
   "cell_type": "code",
   "execution_count": 109,
   "id": "a4a6b56f",
   "metadata": {},
   "outputs": [
    {
     "data": {
      "text/plain": [
       "array([ 9,  7,  8,  5,  6, 10, 11,  3])"
      ]
     },
     "execution_count": 109,
     "metadata": {},
     "output_type": "execute_result"
    }
   ],
   "source": [
    "data.clarity.unique()"
   ]
  },
  {
   "cell_type": "markdown",
   "id": "925226bb",
   "metadata": {},
   "source": [
    "...and the same with color (https://www.info-diamond.com/polished/color.html) :"
   ]
  },
  {
   "cell_type": "code",
   "execution_count": 110,
   "id": "b8a9328e",
   "metadata": {},
   "outputs": [
    {
     "data": {
      "text/plain": [
       "array(['G', 'H', 'F', 'J', 'E', 'I', 'D'], dtype=object)"
      ]
     },
     "execution_count": 110,
     "metadata": {},
     "output_type": "execute_result"
    }
   ],
   "source": [
    "data.color.unique()"
   ]
  },
  {
   "cell_type": "code",
   "execution_count": 146,
   "id": "e2a82e36",
   "metadata": {},
   "outputs": [],
   "source": [
    "colval = {\"D\":100, \"E\":93, \"F\":85, \"G\":77, \"H\":66, \"I\":53, \"J\":44}"
   ]
  },
  {
   "cell_type": "code",
   "execution_count": 147,
   "id": "ef4a4bdc",
   "metadata": {},
   "outputs": [],
   "source": [
    "data.color = data.color.apply(lambda x: colval[x])"
   ]
  },
  {
   "cell_type": "code",
   "execution_count": 113,
   "id": "fc3fe81e",
   "metadata": {},
   "outputs": [
    {
     "data": {
      "text/plain": [
       "array([ 77,  66,  85,  44,  93,  53, 100])"
      ]
     },
     "execution_count": 113,
     "metadata": {},
     "output_type": "execute_result"
    }
   ],
   "source": [
    "data.color.unique()"
   ]
  },
  {
   "cell_type": "code",
   "execution_count": 114,
   "id": "a8964269",
   "metadata": {
    "scrolled": true
   },
   "outputs": [
    {
     "data": {
      "text/html": [
       "<div>\n",
       "<style scoped>\n",
       "    .dataframe tbody tr th:only-of-type {\n",
       "        vertical-align: middle;\n",
       "    }\n",
       "\n",
       "    .dataframe tbody tr th {\n",
       "        vertical-align: top;\n",
       "    }\n",
       "\n",
       "    .dataframe thead th {\n",
       "        text-align: right;\n",
       "    }\n",
       "</style>\n",
       "<table border=\"1\" class=\"dataframe\">\n",
       "  <thead>\n",
       "    <tr style=\"text-align: right;\">\n",
       "      <th></th>\n",
       "      <th>id</th>\n",
       "      <th>carat</th>\n",
       "      <th>cut</th>\n",
       "      <th>color</th>\n",
       "      <th>clarity</th>\n",
       "      <th>depth</th>\n",
       "      <th>table</th>\n",
       "      <th>price</th>\n",
       "    </tr>\n",
       "  </thead>\n",
       "  <tbody>\n",
       "    <tr>\n",
       "      <th>id</th>\n",
       "      <td>1.000000</td>\n",
       "      <td>-0.003349</td>\n",
       "      <td>0.000449</td>\n",
       "      <td>0.001317</td>\n",
       "      <td>-0.000040</td>\n",
       "      <td>0.007690</td>\n",
       "      <td>-0.007495</td>\n",
       "      <td>-0.004065</td>\n",
       "    </tr>\n",
       "    <tr>\n",
       "      <th>carat</th>\n",
       "      <td>-0.003349</td>\n",
       "      <td>1.000000</td>\n",
       "      <td>-0.134463</td>\n",
       "      <td>-0.300595</td>\n",
       "      <td>-0.354329</td>\n",
       "      <td>0.025563</td>\n",
       "      <td>0.181437</td>\n",
       "      <td>0.921128</td>\n",
       "    </tr>\n",
       "    <tr>\n",
       "      <th>cut</th>\n",
       "      <td>0.000449</td>\n",
       "      <td>-0.134463</td>\n",
       "      <td>1.000000</td>\n",
       "      <td>0.023494</td>\n",
       "      <td>0.194443</td>\n",
       "      <td>-0.219509</td>\n",
       "      <td>-0.433241</td>\n",
       "      <td>-0.052115</td>\n",
       "    </tr>\n",
       "    <tr>\n",
       "      <th>color</th>\n",
       "      <td>0.001317</td>\n",
       "      <td>-0.300595</td>\n",
       "      <td>0.023494</td>\n",
       "      <td>1.000000</td>\n",
       "      <td>-0.009964</td>\n",
       "      <td>-0.050107</td>\n",
       "      <td>-0.027176</td>\n",
       "      <td>-0.173896</td>\n",
       "    </tr>\n",
       "    <tr>\n",
       "      <th>clarity</th>\n",
       "      <td>-0.000040</td>\n",
       "      <td>-0.354329</td>\n",
       "      <td>0.194443</td>\n",
       "      <td>-0.009964</td>\n",
       "      <td>1.000000</td>\n",
       "      <td>-0.075435</td>\n",
       "      <td>-0.156728</td>\n",
       "      <td>-0.142408</td>\n",
       "    </tr>\n",
       "    <tr>\n",
       "      <th>depth</th>\n",
       "      <td>0.007690</td>\n",
       "      <td>0.025563</td>\n",
       "      <td>-0.219509</td>\n",
       "      <td>-0.050107</td>\n",
       "      <td>-0.075435</td>\n",
       "      <td>1.000000</td>\n",
       "      <td>-0.297741</td>\n",
       "      <td>-0.015052</td>\n",
       "    </tr>\n",
       "    <tr>\n",
       "      <th>table</th>\n",
       "      <td>-0.007495</td>\n",
       "      <td>0.181437</td>\n",
       "      <td>-0.433241</td>\n",
       "      <td>-0.027176</td>\n",
       "      <td>-0.156728</td>\n",
       "      <td>-0.297741</td>\n",
       "      <td>1.000000</td>\n",
       "      <td>0.127691</td>\n",
       "    </tr>\n",
       "    <tr>\n",
       "      <th>price</th>\n",
       "      <td>-0.004065</td>\n",
       "      <td>0.921128</td>\n",
       "      <td>-0.052115</td>\n",
       "      <td>-0.173896</td>\n",
       "      <td>-0.142408</td>\n",
       "      <td>-0.015052</td>\n",
       "      <td>0.127691</td>\n",
       "      <td>1.000000</td>\n",
       "    </tr>\n",
       "  </tbody>\n",
       "</table>\n",
       "</div>"
      ],
      "text/plain": [
       "               id     carat       cut     color   clarity     depth     table  \\\n",
       "id       1.000000 -0.003349  0.000449  0.001317 -0.000040  0.007690 -0.007495   \n",
       "carat   -0.003349  1.000000 -0.134463 -0.300595 -0.354329  0.025563  0.181437   \n",
       "cut      0.000449 -0.134463  1.000000  0.023494  0.194443 -0.219509 -0.433241   \n",
       "color    0.001317 -0.300595  0.023494  1.000000 -0.009964 -0.050107 -0.027176   \n",
       "clarity -0.000040 -0.354329  0.194443 -0.009964  1.000000 -0.075435 -0.156728   \n",
       "depth    0.007690  0.025563 -0.219509 -0.050107 -0.075435  1.000000 -0.297741   \n",
       "table   -0.007495  0.181437 -0.433241 -0.027176 -0.156728 -0.297741  1.000000   \n",
       "price   -0.004065  0.921128 -0.052115 -0.173896 -0.142408 -0.015052  0.127691   \n",
       "\n",
       "            price  \n",
       "id      -0.004065  \n",
       "carat    0.921128  \n",
       "cut     -0.052115  \n",
       "color   -0.173896  \n",
       "clarity -0.142408  \n",
       "depth   -0.015052  \n",
       "table    0.127691  \n",
       "price    1.000000  "
      ]
     },
     "execution_count": 114,
     "metadata": {},
     "output_type": "execute_result"
    }
   ],
   "source": [
    "data.corr()"
   ]
  },
  {
   "cell_type": "code",
   "execution_count": 115,
   "id": "f170d4a6",
   "metadata": {},
   "outputs": [
    {
     "data": {
      "text/plain": [
       "id        -0.004065\n",
       "carat      0.921128\n",
       "cut       -0.052115\n",
       "color     -0.173896\n",
       "clarity   -0.142408\n",
       "depth     -0.015052\n",
       "table      0.127691\n",
       "price      1.000000\n",
       "Name: price, dtype: float64"
      ]
     },
     "execution_count": 115,
     "metadata": {},
     "output_type": "execute_result"
    }
   ],
   "source": [
    "data.corr().price"
   ]
  },
  {
   "cell_type": "code",
   "execution_count": 116,
   "id": "bed02e03",
   "metadata": {},
   "outputs": [
    {
     "data": {
      "text/plain": [
       "<AxesSubplot:>"
      ]
     },
     "execution_count": 116,
     "metadata": {},
     "output_type": "execute_result"
    },
    {
     "data": {
      "image/png": "[encoded data removed]",
      "text/plain": [
       "<Figure size 432x288 with 2 Axes>"
      ]
     },
     "metadata": {
      "needs_background": "light"
     },
     "output_type": "display_data"
    }
   ],
   "source": [
    "import seaborn as sns\n",
    "sns.heatmap(data.corr())"
   ]
  },
  {
   "cell_type": "markdown",
   "id": "7dbaab5f",
   "metadata": {},
   "source": [
    "# Now our data is ready for ML analysis"
   ]
  },
  {
   "cell_type": "markdown",
   "id": "105525fb",
   "metadata": {},
   "source": [
    "let's import it:"
   ]
  },
  {
   "cell_type": "code",
   "execution_count": 148,
   "id": "45b282ec",
   "metadata": {},
   "outputs": [],
   "source": [
    "data.to_csv(\"DATA/clean_data.csv\", index=False)"
   ]
  },
  {
   "cell_type": "code",
   "execution_count": null,
   "id": "ac7acab8",
   "metadata": {},
   "outputs": [],
   "source": []
  }
 ],
 "metadata": {
  "kernelspec": {
   "display_name": "ironhack",
   "language": "python",
   "name": "ironhack"
  },
  "language_info": {
   "codemirror_mode": {
    "name": "ipython",
    "version": 3
   },
   "file_extension": ".py",
   "mimetype": "text/x-python",
   "name": "python",
   "nbconvert_exporter": "python",
   "pygments_lexer": "ipython3",
   "version": "3.8.12"
  }
 },
 "nbformat": 4,
 "nbformat_minor": 5
}
