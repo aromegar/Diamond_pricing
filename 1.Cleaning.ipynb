{
 "cells": [
  {
   "cell_type": "markdown",
   "id": "3b1f6f13",
   "metadata": {},
   "source": [
    "# ***Cleaning the Dataset***"
   ]
  },
  {
   "cell_type": "markdown",
   "id": "eba9d082",
   "metadata": {},
   "source": [
    "In this Jupyter we make some data cleaning and feature engineering to prepare the best set of variables."
   ]
  },
  {
   "cell_type": "code",
   "execution_count": 1,
   "id": "7e231c50",
   "metadata": {},
   "outputs": [],
   "source": [
    "import pandas as pd\n",
    "import numpy as np\n",
    "\n",
    "from src import cleaning_functions as cf"
   ]
  },
  {
   "cell_type": "markdown",
   "id": "8fb45bb9",
   "metadata": {},
   "source": [
    "## Import and explore:"
   ]
  },
  {
   "cell_type": "code",
   "execution_count": 2,
   "id": "245a7910",
   "metadata": {},
   "outputs": [
    {
     "data": {
      "text/html": [
       "<div>\n",
       "<style scoped>\n",
       "    .dataframe tbody tr th:only-of-type {\n",
       "        vertical-align: middle;\n",
       "    }\n",
       "\n",
       "    .dataframe tbody tr th {\n",
       "        vertical-align: top;\n",
       "    }\n",
       "\n",
       "    .dataframe thead th {\n",
       "        text-align: right;\n",
       "    }\n",
       "</style>\n",
       "<table border=\"1\" class=\"dataframe\">\n",
       "  <thead>\n",
       "    <tr style=\"text-align: right;\">\n",
       "      <th></th>\n",
       "      <th>id</th>\n",
       "      <th>carat</th>\n",
       "      <th>cut</th>\n",
       "      <th>color</th>\n",
       "      <th>clarity</th>\n",
       "      <th>depth</th>\n",
       "      <th>table</th>\n",
       "      <th>x</th>\n",
       "      <th>y</th>\n",
       "      <th>z</th>\n",
       "      <th>price</th>\n",
       "    </tr>\n",
       "  </thead>\n",
       "  <tbody>\n",
       "    <tr>\n",
       "      <th>0</th>\n",
       "      <td>0</td>\n",
       "      <td>1.14</td>\n",
       "      <td>Ideal</td>\n",
       "      <td>G</td>\n",
       "      <td>VVS2</td>\n",
       "      <td>61.0</td>\n",
       "      <td>56.0</td>\n",
       "      <td>6.74</td>\n",
       "      <td>6.76</td>\n",
       "      <td>4.12</td>\n",
       "      <td>9013</td>\n",
       "    </tr>\n",
       "    <tr>\n",
       "      <th>1</th>\n",
       "      <td>1</td>\n",
       "      <td>0.76</td>\n",
       "      <td>Ideal</td>\n",
       "      <td>H</td>\n",
       "      <td>VS2</td>\n",
       "      <td>62.7</td>\n",
       "      <td>57.0</td>\n",
       "      <td>5.86</td>\n",
       "      <td>5.82</td>\n",
       "      <td>3.66</td>\n",
       "      <td>2692</td>\n",
       "    </tr>\n",
       "    <tr>\n",
       "      <th>2</th>\n",
       "      <td>2</td>\n",
       "      <td>0.84</td>\n",
       "      <td>Ideal</td>\n",
       "      <td>G</td>\n",
       "      <td>VS1</td>\n",
       "      <td>61.4</td>\n",
       "      <td>56.0</td>\n",
       "      <td>6.04</td>\n",
       "      <td>6.15</td>\n",
       "      <td>3.74</td>\n",
       "      <td>4372</td>\n",
       "    </tr>\n",
       "    <tr>\n",
       "      <th>3</th>\n",
       "      <td>3</td>\n",
       "      <td>1.55</td>\n",
       "      <td>Ideal</td>\n",
       "      <td>H</td>\n",
       "      <td>VS1</td>\n",
       "      <td>62.0</td>\n",
       "      <td>57.0</td>\n",
       "      <td>7.37</td>\n",
       "      <td>7.43</td>\n",
       "      <td>4.59</td>\n",
       "      <td>13665</td>\n",
       "    </tr>\n",
       "    <tr>\n",
       "      <th>4</th>\n",
       "      <td>4</td>\n",
       "      <td>0.30</td>\n",
       "      <td>Ideal</td>\n",
       "      <td>G</td>\n",
       "      <td>SI2</td>\n",
       "      <td>61.9</td>\n",
       "      <td>57.0</td>\n",
       "      <td>4.28</td>\n",
       "      <td>4.31</td>\n",
       "      <td>2.66</td>\n",
       "      <td>422</td>\n",
       "    </tr>\n",
       "  </tbody>\n",
       "</table>\n",
       "</div>"
      ],
      "text/plain": [
       "   id  carat    cut color clarity  depth  table     x     y     z  price\n",
       "0   0   1.14  Ideal     G    VVS2   61.0   56.0  6.74  6.76  4.12   9013\n",
       "1   1   0.76  Ideal     H     VS2   62.7   57.0  5.86  5.82  3.66   2692\n",
       "2   2   0.84  Ideal     G     VS1   61.4   56.0  6.04  6.15  3.74   4372\n",
       "3   3   1.55  Ideal     H     VS1   62.0   57.0  7.37  7.43  4.59  13665\n",
       "4   4   0.30  Ideal     G     SI2   61.9   57.0  4.28  4.31  2.66    422"
      ]
     },
     "execution_count": 2,
     "metadata": {},
     "output_type": "execute_result"
    }
   ],
   "source": [
    "data = pd.read_csv(\"DATA/train.csv\")\n",
    "data.head()"
   ]
  },
  {
   "cell_type": "code",
   "execution_count": null,
   "id": "485de33a",
   "metadata": {},
   "outputs": [],
   "source": [
    "data.shape"
   ]
  },
  {
   "cell_type": "code",
   "execution_count": null,
   "id": "d351334b",
   "metadata": {},
   "outputs": [],
   "source": [
    "data.info()"
   ]
  },
  {
   "cell_type": "code",
   "execution_count": null,
   "id": "6a628beb",
   "metadata": {},
   "outputs": [],
   "source": [
    "data.dtypes"
   ]
  },
  {
   "cell_type": "code",
   "execution_count": null,
   "id": "5a6971d9",
   "metadata": {},
   "outputs": [],
   "source": [
    "data.isnull().sum()"
   ]
  },
  {
   "cell_type": "markdown",
   "id": "ad6fe30b",
   "metadata": {},
   "source": [
    "# Evaluating colinearity:"
   ]
  },
  {
   "cell_type": "code",
   "execution_count": null,
   "id": "00ecbd5c",
   "metadata": {},
   "outputs": [],
   "source": [
    "data.corr()"
   ]
  },
  {
   "cell_type": "markdown",
   "id": "c8f01ed8",
   "metadata": {},
   "source": [
    "x, y and z are strongly correlated with carats (in fact, carat is a function of x,y,z)"
   ]
  },
  {
   "cell_type": "code",
   "execution_count": 3,
   "id": "656bf9ff",
   "metadata": {},
   "outputs": [],
   "source": [
    "data.drop(columns=[\"x\",\"y\",\"z\"], inplace=True)"
   ]
  },
  {
   "cell_type": "code",
   "execution_count": null,
   "id": "2e8296fb",
   "metadata": {},
   "outputs": [],
   "source": [
    "data.head()"
   ]
  },
  {
   "cell_type": "markdown",
   "id": "562b97dd",
   "metadata": {},
   "source": [
    "# Handling categorical data:"
   ]
  },
  {
   "cell_type": "markdown",
   "id": "7eefb0d6",
   "metadata": {},
   "source": [
    "\"cut\" is a scaled feature, so it makes sense to be converted to numerical:"
   ]
  },
  {
   "cell_type": "markdown",
   "id": "49ae8a41",
   "metadata": {},
   "source": [
    "the same with \"clarity\" (see https://www.info-diamond.com/polished/clarity.html for info) :"
   ]
  },
  {
   "cell_type": "markdown",
   "id": "925226bb",
   "metadata": {},
   "source": [
    "...and the same with color (https://www.info-diamond.com/polished/color.html) :"
   ]
  },
  {
   "cell_type": "code",
   "execution_count": 4,
   "id": "1b0fc1bb",
   "metadata": {},
   "outputs": [],
   "source": [
    "data = cf.categ(data)"
   ]
  },
  {
   "cell_type": "code",
   "execution_count": 5,
   "id": "246822bc",
   "metadata": {},
   "outputs": [
    {
     "data": {
      "text/html": [
       "<div>\n",
       "<style scoped>\n",
       "    .dataframe tbody tr th:only-of-type {\n",
       "        vertical-align: middle;\n",
       "    }\n",
       "\n",
       "    .dataframe tbody tr th {\n",
       "        vertical-align: top;\n",
       "    }\n",
       "\n",
       "    .dataframe thead th {\n",
       "        text-align: right;\n",
       "    }\n",
       "</style>\n",
       "<table border=\"1\" class=\"dataframe\">\n",
       "  <thead>\n",
       "    <tr style=\"text-align: right;\">\n",
       "      <th></th>\n",
       "      <th>id</th>\n",
       "      <th>carat</th>\n",
       "      <th>cut</th>\n",
       "      <th>color</th>\n",
       "      <th>clarity</th>\n",
       "      <th>depth</th>\n",
       "      <th>table</th>\n",
       "      <th>price</th>\n",
       "    </tr>\n",
       "  </thead>\n",
       "  <tbody>\n",
       "    <tr>\n",
       "      <th>0</th>\n",
       "      <td>0</td>\n",
       "      <td>1.14</td>\n",
       "      <td>5</td>\n",
       "      <td>77</td>\n",
       "      <td>9</td>\n",
       "      <td>61.0</td>\n",
       "      <td>56.0</td>\n",
       "      <td>9013</td>\n",
       "    </tr>\n",
       "    <tr>\n",
       "      <th>1</th>\n",
       "      <td>1</td>\n",
       "      <td>0.76</td>\n",
       "      <td>5</td>\n",
       "      <td>66</td>\n",
       "      <td>7</td>\n",
       "      <td>62.7</td>\n",
       "      <td>57.0</td>\n",
       "      <td>2692</td>\n",
       "    </tr>\n",
       "    <tr>\n",
       "      <th>2</th>\n",
       "      <td>2</td>\n",
       "      <td>0.84</td>\n",
       "      <td>5</td>\n",
       "      <td>77</td>\n",
       "      <td>8</td>\n",
       "      <td>61.4</td>\n",
       "      <td>56.0</td>\n",
       "      <td>4372</td>\n",
       "    </tr>\n",
       "    <tr>\n",
       "      <th>3</th>\n",
       "      <td>3</td>\n",
       "      <td>1.55</td>\n",
       "      <td>5</td>\n",
       "      <td>66</td>\n",
       "      <td>8</td>\n",
       "      <td>62.0</td>\n",
       "      <td>57.0</td>\n",
       "      <td>13665</td>\n",
       "    </tr>\n",
       "    <tr>\n",
       "      <th>4</th>\n",
       "      <td>4</td>\n",
       "      <td>0.30</td>\n",
       "      <td>5</td>\n",
       "      <td>77</td>\n",
       "      <td>5</td>\n",
       "      <td>61.9</td>\n",
       "      <td>57.0</td>\n",
       "      <td>422</td>\n",
       "    </tr>\n",
       "  </tbody>\n",
       "</table>\n",
       "</div>"
      ],
      "text/plain": [
       "   id  carat  cut  color  clarity  depth  table  price\n",
       "0   0   1.14    5     77        9   61.0   56.0   9013\n",
       "1   1   0.76    5     66        7   62.7   57.0   2692\n",
       "2   2   0.84    5     77        8   61.4   56.0   4372\n",
       "3   3   1.55    5     66        8   62.0   57.0  13665\n",
       "4   4   0.30    5     77        5   61.9   57.0    422"
      ]
     },
     "execution_count": 5,
     "metadata": {},
     "output_type": "execute_result"
    }
   ],
   "source": [
    "data.head()"
   ]
  },
  {
   "cell_type": "code",
   "execution_count": 7,
   "id": "a8964269",
   "metadata": {
    "scrolled": true
   },
   "outputs": [
    {
     "data": {
      "text/plain": [
       "id        -0.004065\n",
       "carat      0.921128\n",
       "cut       -0.052115\n",
       "color     -0.173896\n",
       "clarity   -0.142408\n",
       "depth     -0.015052\n",
       "table      0.127691\n",
       "price      1.000000\n",
       "Name: price, dtype: float64"
      ]
     },
     "execution_count": 7,
     "metadata": {},
     "output_type": "execute_result"
    }
   ],
   "source": [
    "data.corr().price"
   ]
  },
  {
   "cell_type": "code",
   "execution_count": null,
   "id": "bed02e03",
   "metadata": {},
   "outputs": [],
   "source": [
    "import seaborn as sns\n",
    "sns.heatmap(data.corr())"
   ]
  },
  {
   "cell_type": "markdown",
   "id": "7dbaab5f",
   "metadata": {},
   "source": [
    "# Now our data is ready for ML analysis"
   ]
  },
  {
   "cell_type": "markdown",
   "id": "105525fb",
   "metadata": {},
   "source": [
    "let's import it:"
   ]
  },
  {
   "cell_type": "code",
   "execution_count": 11,
   "id": "45b282ec",
   "metadata": {},
   "outputs": [],
   "source": [
    "data.to_csv(f\"DATA/clean_data.csv\", index=False)"
   ]
  },
  {
   "cell_type": "code",
   "execution_count": null,
   "id": "ac7acab8",
   "metadata": {},
   "outputs": [],
   "source": []
  }
 ],
 "metadata": {
  "kernelspec": {
   "display_name": "ironhack",
   "language": "python",
   "name": "ironhack"
  },
  "language_info": {
   "codemirror_mode": {
    "name": "ipython",
    "version": 3
   },
   "file_extension": ".py",
   "mimetype": "text/x-python",
   "name": "python",
   "nbconvert_exporter": "python",
   "pygments_lexer": "ipython3",
   "version": "3.8.12"
  }
 },
 "nbformat": 4,
 "nbformat_minor": 5
}
