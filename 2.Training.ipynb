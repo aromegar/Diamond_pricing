{
 "cells": [
  {
   "cell_type": "markdown",
   "id": "c79361b5",
   "metadata": {},
   "source": [
    "# Training the Model"
   ]
  },
  {
   "cell_type": "code",
   "execution_count": 56,
   "id": "93caf133",
   "metadata": {},
   "outputs": [],
   "source": [
    "import pandas as pd\n",
    "import numpy as np\n",
    "from sklearn.model_selection import train_test_split\n",
    "from sklearn.linear_model import LinearRegression\n",
    "from sklearn.metrics import mean_squared_error, r2_score\n",
    "from sklearn.tree import DecisionTreeRegressor"
   ]
  },
  {
   "cell_type": "markdown",
   "id": "3842bb3e",
   "metadata": {},
   "source": [
    "# Lets import the clean data:"
   ]
  },
  {
   "cell_type": "code",
   "execution_count": 31,
   "id": "68da6060",
   "metadata": {},
   "outputs": [
    {
     "data": {
      "text/html": [
       "<div>\n",
       "<style scoped>\n",
       "    .dataframe tbody tr th:only-of-type {\n",
       "        vertical-align: middle;\n",
       "    }\n",
       "\n",
       "    .dataframe tbody tr th {\n",
       "        vertical-align: top;\n",
       "    }\n",
       "\n",
       "    .dataframe thead th {\n",
       "        text-align: right;\n",
       "    }\n",
       "</style>\n",
       "<table border=\"1\" class=\"dataframe\">\n",
       "  <thead>\n",
       "    <tr style=\"text-align: right;\">\n",
       "      <th></th>\n",
       "      <th>id</th>\n",
       "      <th>carat</th>\n",
       "      <th>cut</th>\n",
       "      <th>color</th>\n",
       "      <th>clarity</th>\n",
       "      <th>depth</th>\n",
       "      <th>table</th>\n",
       "      <th>price</th>\n",
       "    </tr>\n",
       "  </thead>\n",
       "  <tbody>\n",
       "    <tr>\n",
       "      <th>0</th>\n",
       "      <td>0</td>\n",
       "      <td>1.14</td>\n",
       "      <td>5</td>\n",
       "      <td>4</td>\n",
       "      <td>9</td>\n",
       "      <td>61.0</td>\n",
       "      <td>56.0</td>\n",
       "      <td>9013</td>\n",
       "    </tr>\n",
       "    <tr>\n",
       "      <th>1</th>\n",
       "      <td>1</td>\n",
       "      <td>0.76</td>\n",
       "      <td>5</td>\n",
       "      <td>3</td>\n",
       "      <td>7</td>\n",
       "      <td>62.7</td>\n",
       "      <td>57.0</td>\n",
       "      <td>2692</td>\n",
       "    </tr>\n",
       "    <tr>\n",
       "      <th>2</th>\n",
       "      <td>2</td>\n",
       "      <td>0.84</td>\n",
       "      <td>5</td>\n",
       "      <td>4</td>\n",
       "      <td>8</td>\n",
       "      <td>61.4</td>\n",
       "      <td>56.0</td>\n",
       "      <td>4372</td>\n",
       "    </tr>\n",
       "    <tr>\n",
       "      <th>3</th>\n",
       "      <td>3</td>\n",
       "      <td>1.55</td>\n",
       "      <td>5</td>\n",
       "      <td>3</td>\n",
       "      <td>8</td>\n",
       "      <td>62.0</td>\n",
       "      <td>57.0</td>\n",
       "      <td>13665</td>\n",
       "    </tr>\n",
       "    <tr>\n",
       "      <th>4</th>\n",
       "      <td>4</td>\n",
       "      <td>0.30</td>\n",
       "      <td>5</td>\n",
       "      <td>4</td>\n",
       "      <td>5</td>\n",
       "      <td>61.9</td>\n",
       "      <td>57.0</td>\n",
       "      <td>422</td>\n",
       "    </tr>\n",
       "  </tbody>\n",
       "</table>\n",
       "</div>"
      ],
      "text/plain": [
       "   id  carat  cut  color  clarity  depth  table  price\n",
       "0   0   1.14    5      4        9   61.0   56.0   9013\n",
       "1   1   0.76    5      3        7   62.7   57.0   2692\n",
       "2   2   0.84    5      4        8   61.4   56.0   4372\n",
       "3   3   1.55    5      3        8   62.0   57.0  13665\n",
       "4   4   0.30    5      4        5   61.9   57.0    422"
      ]
     },
     "execution_count": 31,
     "metadata": {},
     "output_type": "execute_result"
    }
   ],
   "source": [
    "df = pd.read_csv(\"DATA/clean_data.csv\")\n",
    "df.head()"
   ]
  },
  {
   "cell_type": "markdown",
   "id": "42ac9153",
   "metadata": {},
   "source": [
    "# First, we split the df for train and test:"
   ]
  },
  {
   "cell_type": "code",
   "execution_count": 32,
   "id": "c0f9d8e3",
   "metadata": {},
   "outputs": [],
   "source": [
    "y=df[\"price\"]\n",
    "X=df.drop(columns=[\"price\",\"id\"])\n",
    "X_train, X_test, y_train, y_test = train_test_split(X,y, test_size=0.2)"
   ]
  },
  {
   "cell_type": "code",
   "execution_count": 33,
   "id": "e26ddcab",
   "metadata": {},
   "outputs": [
    {
     "data": {
      "text/html": [
       "<div>\n",
       "<style scoped>\n",
       "    .dataframe tbody tr th:only-of-type {\n",
       "        vertical-align: middle;\n",
       "    }\n",
       "\n",
       "    .dataframe tbody tr th {\n",
       "        vertical-align: top;\n",
       "    }\n",
       "\n",
       "    .dataframe thead th {\n",
       "        text-align: right;\n",
       "    }\n",
       "</style>\n",
       "<table border=\"1\" class=\"dataframe\">\n",
       "  <thead>\n",
       "    <tr style=\"text-align: right;\">\n",
       "      <th></th>\n",
       "      <th>carat</th>\n",
       "      <th>cut</th>\n",
       "      <th>color</th>\n",
       "      <th>clarity</th>\n",
       "      <th>depth</th>\n",
       "      <th>table</th>\n",
       "    </tr>\n",
       "  </thead>\n",
       "  <tbody>\n",
       "    <tr>\n",
       "      <th>0</th>\n",
       "      <td>1.14</td>\n",
       "      <td>5</td>\n",
       "      <td>4</td>\n",
       "      <td>9</td>\n",
       "      <td>61.0</td>\n",
       "      <td>56.0</td>\n",
       "    </tr>\n",
       "    <tr>\n",
       "      <th>1</th>\n",
       "      <td>0.76</td>\n",
       "      <td>5</td>\n",
       "      <td>3</td>\n",
       "      <td>7</td>\n",
       "      <td>62.7</td>\n",
       "      <td>57.0</td>\n",
       "    </tr>\n",
       "    <tr>\n",
       "      <th>2</th>\n",
       "      <td>0.84</td>\n",
       "      <td>5</td>\n",
       "      <td>4</td>\n",
       "      <td>8</td>\n",
       "      <td>61.4</td>\n",
       "      <td>56.0</td>\n",
       "    </tr>\n",
       "    <tr>\n",
       "      <th>3</th>\n",
       "      <td>1.55</td>\n",
       "      <td>5</td>\n",
       "      <td>3</td>\n",
       "      <td>8</td>\n",
       "      <td>62.0</td>\n",
       "      <td>57.0</td>\n",
       "    </tr>\n",
       "    <tr>\n",
       "      <th>4</th>\n",
       "      <td>0.30</td>\n",
       "      <td>5</td>\n",
       "      <td>4</td>\n",
       "      <td>5</td>\n",
       "      <td>61.9</td>\n",
       "      <td>57.0</td>\n",
       "    </tr>\n",
       "  </tbody>\n",
       "</table>\n",
       "</div>"
      ],
      "text/plain": [
       "   carat  cut  color  clarity  depth  table\n",
       "0   1.14    5      4        9   61.0   56.0\n",
       "1   0.76    5      3        7   62.7   57.0\n",
       "2   0.84    5      4        8   61.4   56.0\n",
       "3   1.55    5      3        8   62.0   57.0\n",
       "4   0.30    5      4        5   61.9   57.0"
      ]
     },
     "execution_count": 33,
     "metadata": {},
     "output_type": "execute_result"
    }
   ],
   "source": [
    "X.head()"
   ]
  },
  {
   "cell_type": "code",
   "execution_count": 34,
   "id": "ae35eaa1",
   "metadata": {},
   "outputs": [
    {
     "data": {
      "text/plain": [
       "0     9013\n",
       "1     2692\n",
       "2     4372\n",
       "3    13665\n",
       "4      422\n",
       "Name: price, dtype: int64"
      ]
     },
     "execution_count": 34,
     "metadata": {},
     "output_type": "execute_result"
    }
   ],
   "source": [
    "y.head()"
   ]
  },
  {
   "cell_type": "code",
   "execution_count": 35,
   "id": "3101e78e",
   "metadata": {},
   "outputs": [
    {
     "data": {
      "text/plain": [
       "(40455, 6)"
      ]
     },
     "execution_count": 35,
     "metadata": {},
     "output_type": "execute_result"
    }
   ],
   "source": [
    "X.shape"
   ]
  },
  {
   "cell_type": "code",
   "execution_count": 36,
   "id": "48d28fd5",
   "metadata": {},
   "outputs": [
    {
     "data": {
      "text/plain": [
       "(40455,)"
      ]
     },
     "execution_count": 36,
     "metadata": {},
     "output_type": "execute_result"
    }
   ],
   "source": [
    "y.shape"
   ]
  },
  {
   "cell_type": "markdown",
   "id": "a9d20697",
   "metadata": {},
   "source": [
    "# First we make a simple Logistic Regression:"
   ]
  },
  {
   "cell_type": "code",
   "execution_count": 65,
   "id": "49beccd4",
   "metadata": {
    "scrolled": true
   },
   "outputs": [],
   "source": [
    "log = LinearRegression()"
   ]
  },
  {
   "cell_type": "code",
   "execution_count": 66,
   "id": "a8cd6a92",
   "metadata": {},
   "outputs": [
    {
     "data": {
      "text/plain": [
       "LinearRegression()"
      ]
     },
     "execution_count": 66,
     "metadata": {},
     "output_type": "execute_result"
    }
   ],
   "source": [
    "log.fit(X_train,y_train)"
   ]
  },
  {
   "cell_type": "code",
   "execution_count": 67,
   "id": "eac64e62",
   "metadata": {},
   "outputs": [],
   "source": [
    "y_pred = log.predict(X_test)"
   ]
  },
  {
   "cell_type": "code",
   "execution_count": 68,
   "id": "aa310e22",
   "metadata": {},
   "outputs": [
    {
     "name": "stdout",
     "output_type": "stream",
     "text": [
      "MSE:  1539466.868557476\n",
      "RMSE:  1240.7525412254759\n",
      "R2:  0.9048837282871169\n"
     ]
    }
   ],
   "source": [
    "print(\"MSE: \", mean_squared_error(y_test,y_pred))\n",
    "print(\"RMSE: \", np.sqrt(mean_squared_error(y_test,y_pred)))\n",
    "print(\"R2: \", r2_score(y_test,y_pred))"
   ]
  },
  {
   "cell_type": "markdown",
   "id": "15c9f46d",
   "metadata": {},
   "source": [
    "# Now lets try a Decission Tree:"
   ]
  },
  {
   "cell_type": "code",
   "execution_count": 69,
   "id": "aa691d17",
   "metadata": {
    "scrolled": true
   },
   "outputs": [
    {
     "name": "stdout",
     "output_type": "stream",
     "text": [
      "Max Depth = 1  -->  RMSE:  2556.2418321272166\n",
      "Max Depth = 2  -->  RMSE:  1692.594825562079\n",
      "Max Depth = 3  -->  RMSE:  1377.3895045281097\n",
      "Max Depth = 4  -->  RMSE:  1173.179041558432\n",
      "Max Depth = 5  -->  RMSE:  1012.8938469309877\n",
      "Max Depth = 6  -->  RMSE:  875.768671943671\n",
      "Max Depth = 7  -->  RMSE:  795.6774213425058\n",
      "Max Depth = 8  -->  RMSE:  704.7347077638515\n",
      "Max Depth = 9  -->  RMSE:  654.5659225141459\n",
      "Max Depth = 10  -->  RMSE:  621.9986729169274\n",
      "Max Depth = 11  -->  RMSE:  604.0750135796088\n",
      "Max Depth = 12  -->  RMSE:  610.1329406828772\n",
      "Max Depth = 13  -->  RMSE:  625.8646195919637\n",
      "Max Depth = 14  -->  RMSE:  631.6650055727374\n",
      "Max Depth = 15  -->  RMSE:  663.9732013999609\n",
      "Max Depth = 16  -->  RMSE:  679.7677126490364\n",
      "Max Depth = 17  -->  RMSE:  684.6858897622647\n",
      "Max Depth = 18  -->  RMSE:  675.5756733339491\n",
      "Max Depth = 19  -->  RMSE:  691.5205666039923\n"
     ]
    }
   ],
   "source": [
    "for i in range (1,20):\n",
    "    tree = DecisionTreeRegressor(max_depth=i)\n",
    "    tree.fit(X_train,y_train)\n",
    "    y_pred = tree.predict(X_test)\n",
    "    print(f\"Max Depth = {i}  -->  RMSE: \", np.sqrt(mean_squared_error(y_test,y_pred)))"
   ]
  },
  {
   "cell_type": "markdown",
   "id": "2996aac4",
   "metadata": {},
   "source": [
    "the best RMSE comes with max_depth=11"
   ]
  },
  {
   "cell_type": "code",
   "execution_count": 70,
   "id": "439ca24a",
   "metadata": {},
   "outputs": [
    {
     "name": "stdout",
     "output_type": "stream",
     "text": [
      "MSE:  365147.23857142986\n",
      "RMSE:  604.274141902026\n",
      "R2:  0.9774393040418509\n"
     ]
    }
   ],
   "source": [
    "tree = DecisionTreeRegressor(max_depth=11)\n",
    "tree.fit(X_train,y_train)\n",
    "y_pred = tree.predict(X_test)\n",
    "print(\"MSE: \", mean_squared_error(y_test,y_pred))\n",
    "print(\"RMSE: \", np.sqrt(mean_squared_error(y_test,y_pred)))\n",
    "print(\"R2: \", r2_score(y_test,y_pred))"
   ]
  },
  {
   "cell_type": "markdown",
   "id": "ca199b43",
   "metadata": {},
   "source": [
    "# lets try other models:"
   ]
  },
  {
   "cell_type": "code",
   "execution_count": 71,
   "id": "5aca307b",
   "metadata": {},
   "outputs": [],
   "source": [
    "from sklearn.ensemble import RandomForestRegressor"
   ]
  },
  {
   "cell_type": "code",
   "execution_count": 81,
   "id": "8618a220",
   "metadata": {},
   "outputs": [
    {
     "name": "stdout",
     "output_type": "stream",
     "text": [
      "Max Depth = 12  -->  RMSE:  540.7544380257997\n",
      "Max Depth = 13  -->  RMSE:  536.8425996690071\n",
      "Max Depth = 14  -->  RMSE:  537.8256841050809\n",
      "Max Depth = 15  -->  RMSE:  539.2720903620158\n",
      "Max Depth = 16  -->  RMSE:  539.4178061900482\n",
      "Max Depth = 17  -->  RMSE:  539.4740312642746\n",
      "Max Depth = 18  -->  RMSE:  538.8441729204425\n",
      "Max Depth = 19  -->  RMSE:  541.2236025978418\n",
      "Max Depth = 20  -->  RMSE:  542.7489124731181\n",
      "Max Depth = 21  -->  RMSE:  542.6827399020762\n",
      "Max Depth = 22  -->  RMSE:  543.226452410092\n",
      "Max Depth = 23  -->  RMSE:  541.9298874779803\n",
      "Max Depth = 24  -->  RMSE:  541.6672664794535\n"
     ]
    }
   ],
   "source": [
    "for i in range(12,25):\n",
    "    forest = RandomForestRegressor(max_depth=i)\n",
    "    forest.fit(X_train,y_train)\n",
    "    y_pred = forest.predict(X_test)\n",
    "    print(f\"Max Depth = {i}  -->  RMSE: \", np.sqrt(mean_squared_error(y_test,y_pred)))"
   ]
  },
  {
   "cell_type": "code",
   "execution_count": 76,
   "id": "16443a24",
   "metadata": {},
   "outputs": [
    {
     "name": "stdout",
     "output_type": "stream",
     "text": [
      "RMSE:  1240.837896917951\n"
     ]
    }
   ],
   "source": [
    "from sklearn import linear_model\n",
    "lasso = linear_model.Lasso()\n",
    "lasso.fit(X_train,y_train)\n",
    "y_pred = lasso.predict(X_test)\n",
    "print(\"RMSE: \", np.sqrt(mean_squared_error(y_test,y_pred)))"
   ]
  },
  {
   "cell_type": "markdown",
   "id": "51a287eb",
   "metadata": {},
   "source": [
    "lasso with alpha=0.1 is equicalent to LinearRegression"
   ]
  },
  {
   "cell_type": "code",
   "execution_count": 77,
   "id": "333b3296",
   "metadata": {},
   "outputs": [
    {
     "name": "stdout",
     "output_type": "stream",
     "text": [
      "RMSE:  3018.5383996312653\n"
     ]
    }
   ],
   "source": [
    "from sklearn.linear_model import ElasticNet\n",
    "elas = ElasticNet(random_state=0)\n",
    "elas.fit(X_train,y_train)\n",
    "y_pred = elas.predict(X_test)\n",
    "print(\"RMSE: \", np.sqrt(mean_squared_error(y_test,y_pred)))"
   ]
  },
  {
   "cell_type": "code",
   "execution_count": null,
   "id": "d61f103f",
   "metadata": {},
   "outputs": [],
   "source": []
  }
 ],
 "metadata": {
  "kernelspec": {
   "display_name": "ironhack",
   "language": "python",
   "name": "ironhack"
  },
  "language_info": {
   "codemirror_mode": {
    "name": "ipython",
    "version": 3
   },
   "file_extension": ".py",
   "mimetype": "text/x-python",
   "name": "python",
   "nbconvert_exporter": "python",
   "pygments_lexer": "ipython3",
   "version": "3.8.12"
  }
 },
 "nbformat": 4,
 "nbformat_minor": 5
}
