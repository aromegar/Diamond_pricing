{
 "cells": [
  {
   "cell_type": "markdown",
   "id": "f0275f6a",
   "metadata": {},
   "source": [
    "# ***Training the Model***"
   ]
  },
  {
   "cell_type": "markdown",
   "id": "b473474d",
   "metadata": {},
   "source": [
    "In this Jupyter we will try and test different models with different parameters to find the best model approach, using RMSE as indicator."
   ]
  },
  {
   "cell_type": "code",
   "execution_count": 173,
   "id": "2aef4438",
   "metadata": {},
   "outputs": [],
   "source": [
    "import pandas as pd\n",
    "import numpy as np\n",
    "\n",
    "from sklearn.linear_model import LinearRegression\n",
    "from sklearn.tree import DecisionTreeRegressor\n",
    "from sklearn.neighbors import KNeighborsRegressor\n",
    "from sklearn.ensemble import GradientBoostingRegressor\n",
    "from sklearn.ensemble import RandomForestRegressor\n",
    "\n",
    "from sklearn.model_selection import train_test_split\n",
    "from sklearn.model_selection import GridSearchCV\n",
    "from sklearn.metrics import mean_squared_error"
   ]
  },
  {
   "cell_type": "markdown",
   "id": "34226bd5",
   "metadata": {},
   "source": [
    "# Lets import the clean data:"
   ]
  },
  {
   "cell_type": "code",
   "execution_count": 174,
   "id": "5731237c",
   "metadata": {},
   "outputs": [
    {
     "data": {
      "text/html": [
       "<div>\n",
       "<style scoped>\n",
       "    .dataframe tbody tr th:only-of-type {\n",
       "        vertical-align: middle;\n",
       "    }\n",
       "\n",
       "    .dataframe tbody tr th {\n",
       "        vertical-align: top;\n",
       "    }\n",
       "\n",
       "    .dataframe thead th {\n",
       "        text-align: right;\n",
       "    }\n",
       "</style>\n",
       "<table border=\"1\" class=\"dataframe\">\n",
       "  <thead>\n",
       "    <tr style=\"text-align: right;\">\n",
       "      <th></th>\n",
       "      <th>id</th>\n",
       "      <th>carat</th>\n",
       "      <th>cut</th>\n",
       "      <th>color</th>\n",
       "      <th>clarity</th>\n",
       "      <th>depth</th>\n",
       "      <th>table</th>\n",
       "      <th>price</th>\n",
       "    </tr>\n",
       "  </thead>\n",
       "  <tbody>\n",
       "    <tr>\n",
       "      <th>0</th>\n",
       "      <td>0</td>\n",
       "      <td>1.14</td>\n",
       "      <td>5</td>\n",
       "      <td>77</td>\n",
       "      <td>9</td>\n",
       "      <td>61.0</td>\n",
       "      <td>56.0</td>\n",
       "      <td>9013</td>\n",
       "    </tr>\n",
       "    <tr>\n",
       "      <th>1</th>\n",
       "      <td>1</td>\n",
       "      <td>0.76</td>\n",
       "      <td>5</td>\n",
       "      <td>66</td>\n",
       "      <td>7</td>\n",
       "      <td>62.7</td>\n",
       "      <td>57.0</td>\n",
       "      <td>2692</td>\n",
       "    </tr>\n",
       "    <tr>\n",
       "      <th>2</th>\n",
       "      <td>2</td>\n",
       "      <td>0.84</td>\n",
       "      <td>5</td>\n",
       "      <td>77</td>\n",
       "      <td>8</td>\n",
       "      <td>61.4</td>\n",
       "      <td>56.0</td>\n",
       "      <td>4372</td>\n",
       "    </tr>\n",
       "    <tr>\n",
       "      <th>3</th>\n",
       "      <td>3</td>\n",
       "      <td>1.55</td>\n",
       "      <td>5</td>\n",
       "      <td>66</td>\n",
       "      <td>8</td>\n",
       "      <td>62.0</td>\n",
       "      <td>57.0</td>\n",
       "      <td>13665</td>\n",
       "    </tr>\n",
       "    <tr>\n",
       "      <th>4</th>\n",
       "      <td>4</td>\n",
       "      <td>0.30</td>\n",
       "      <td>5</td>\n",
       "      <td>77</td>\n",
       "      <td>5</td>\n",
       "      <td>61.9</td>\n",
       "      <td>57.0</td>\n",
       "      <td>422</td>\n",
       "    </tr>\n",
       "  </tbody>\n",
       "</table>\n",
       "</div>"
      ],
      "text/plain": [
       "   id  carat  cut  color  clarity  depth  table  price\n",
       "0   0   1.14    5     77        9   61.0   56.0   9013\n",
       "1   1   0.76    5     66        7   62.7   57.0   2692\n",
       "2   2   0.84    5     77        8   61.4   56.0   4372\n",
       "3   3   1.55    5     66        8   62.0   57.0  13665\n",
       "4   4   0.30    5     77        5   61.9   57.0    422"
      ]
     },
     "execution_count": 174,
     "metadata": {},
     "output_type": "execute_result"
    }
   ],
   "source": [
    "df = pd.read_csv(\"DATA/clean_data.csv\")\n",
    "df.head()"
   ]
  },
  {
   "cell_type": "markdown",
   "id": "8118b0ad",
   "metadata": {},
   "source": [
    "# First, we split the DataFrame for train and test..."
   ]
  },
  {
   "cell_type": "code",
   "execution_count": 175,
   "id": "9a1788f1",
   "metadata": {},
   "outputs": [],
   "source": [
    "y=df[\"price\"]\n",
    "X=df.drop(columns=[\"price\",\"id\"])\n",
    "X_train, X_test, y_train, y_test = train_test_split(X,y, test_size=0.2)"
   ]
  },
  {
   "cell_type": "code",
   "execution_count": 136,
   "id": "44ef2729",
   "metadata": {},
   "outputs": [
    {
     "data": {
      "text/html": [
       "<div>\n",
       "<style scoped>\n",
       "    .dataframe tbody tr th:only-of-type {\n",
       "        vertical-align: middle;\n",
       "    }\n",
       "\n",
       "    .dataframe tbody tr th {\n",
       "        vertical-align: top;\n",
       "    }\n",
       "\n",
       "    .dataframe thead th {\n",
       "        text-align: right;\n",
       "    }\n",
       "</style>\n",
       "<table border=\"1\" class=\"dataframe\">\n",
       "  <thead>\n",
       "    <tr style=\"text-align: right;\">\n",
       "      <th></th>\n",
       "      <th>carat</th>\n",
       "      <th>cut</th>\n",
       "      <th>color</th>\n",
       "      <th>clarity</th>\n",
       "      <th>depth</th>\n",
       "      <th>table</th>\n",
       "    </tr>\n",
       "  </thead>\n",
       "  <tbody>\n",
       "    <tr>\n",
       "      <th>0</th>\n",
       "      <td>1.14</td>\n",
       "      <td>5</td>\n",
       "      <td>77</td>\n",
       "      <td>9</td>\n",
       "      <td>61.0</td>\n",
       "      <td>56.0</td>\n",
       "    </tr>\n",
       "    <tr>\n",
       "      <th>1</th>\n",
       "      <td>0.76</td>\n",
       "      <td>5</td>\n",
       "      <td>66</td>\n",
       "      <td>7</td>\n",
       "      <td>62.7</td>\n",
       "      <td>57.0</td>\n",
       "    </tr>\n",
       "    <tr>\n",
       "      <th>2</th>\n",
       "      <td>0.84</td>\n",
       "      <td>5</td>\n",
       "      <td>77</td>\n",
       "      <td>8</td>\n",
       "      <td>61.4</td>\n",
       "      <td>56.0</td>\n",
       "    </tr>\n",
       "    <tr>\n",
       "      <th>3</th>\n",
       "      <td>1.55</td>\n",
       "      <td>5</td>\n",
       "      <td>66</td>\n",
       "      <td>8</td>\n",
       "      <td>62.0</td>\n",
       "      <td>57.0</td>\n",
       "    </tr>\n",
       "    <tr>\n",
       "      <th>4</th>\n",
       "      <td>0.30</td>\n",
       "      <td>5</td>\n",
       "      <td>77</td>\n",
       "      <td>5</td>\n",
       "      <td>61.9</td>\n",
       "      <td>57.0</td>\n",
       "    </tr>\n",
       "  </tbody>\n",
       "</table>\n",
       "</div>"
      ],
      "text/plain": [
       "   carat  cut  color  clarity  depth  table\n",
       "0   1.14    5     77        9   61.0   56.0\n",
       "1   0.76    5     66        7   62.7   57.0\n",
       "2   0.84    5     77        8   61.4   56.0\n",
       "3   1.55    5     66        8   62.0   57.0\n",
       "4   0.30    5     77        5   61.9   57.0"
      ]
     },
     "execution_count": 136,
     "metadata": {},
     "output_type": "execute_result"
    }
   ],
   "source": [
    "X.head()"
   ]
  },
  {
   "cell_type": "code",
   "execution_count": 137,
   "id": "76805d5c",
   "metadata": {},
   "outputs": [
    {
     "data": {
      "text/plain": [
       "0     9013\n",
       "1     2692\n",
       "2     4372\n",
       "3    13665\n",
       "4      422\n",
       "Name: price, dtype: int64"
      ]
     },
     "execution_count": 137,
     "metadata": {},
     "output_type": "execute_result"
    }
   ],
   "source": [
    "y.head()"
   ]
  },
  {
   "cell_type": "code",
   "execution_count": 138,
   "id": "89294f60",
   "metadata": {},
   "outputs": [
    {
     "data": {
      "text/plain": [
       "(40455, 6)"
      ]
     },
     "execution_count": 138,
     "metadata": {},
     "output_type": "execute_result"
    }
   ],
   "source": [
    "X.shape"
   ]
  },
  {
   "cell_type": "code",
   "execution_count": 139,
   "id": "b5bc8e0d",
   "metadata": {},
   "outputs": [
    {
     "data": {
      "text/plain": [
       "(40455,)"
      ]
     },
     "execution_count": 139,
     "metadata": {},
     "output_type": "execute_result"
    }
   ],
   "source": [
    "y.shape"
   ]
  },
  {
   "cell_type": "markdown",
   "id": "953fc657",
   "metadata": {},
   "source": [
    "# ...and prepare a series of different regression models:"
   ]
  },
  {
   "cell_type": "code",
   "execution_count": 176,
   "id": "02ed0c65",
   "metadata": {},
   "outputs": [],
   "source": [
    "models={\n",
    "    \"Linear\" : LinearRegression(),\n",
    "    \"Dec Tree\" : DecisionTreeRegressor(),\n",
    "    \"KNeighb\" : KNeighborsRegressor(),\n",
    "    \"Grad\" : GradientBoostingRegressor(),\n",
    "    \"Random Forest\" : RandomForestRegressor()\n",
    "}"
   ]
  },
  {
   "cell_type": "code",
   "execution_count": 177,
   "id": "a32b3d11",
   "metadata": {},
   "outputs": [
    {
     "name": "stdout",
     "output_type": "stream",
     "text": [
      "------Linear------\n",
      "RMSE :  1244.1735094856458\n",
      "_\n",
      "------Dec Tree------\n",
      "RMSE :  749.3458703615097\n",
      "_\n",
      "------KNeighb------\n",
      "RMSE :  1994.6787791375489\n",
      "_\n",
      "------Grad------\n",
      "RMSE :  624.7907106643532\n",
      "_\n",
      "------Random Forest------\n",
      "RMSE :  561.7207874754455\n",
      "_\n"
     ]
    }
   ],
   "source": [
    "for name, model in models.items():\n",
    "    model.fit(X_train, y_train)\n",
    "    y_pred = model.predict(X_test)\n",
    "    print(f\"------{name}------\")\n",
    "    print('RMSE : ', np.sqrt(mean_squared_error(y_test, y_pred)))\n",
    "    print(\"_\")"
   ]
  },
  {
   "cell_type": "markdown",
   "id": "0206c3c4",
   "metadata": {},
   "source": [
    "Decission tree, Gradient and Random Forest seems to be the best choices. Lets tune some hyperparameters for this models:"
   ]
  },
  {
   "cell_type": "markdown",
   "id": "25a9c902",
   "metadata": {},
   "source": [
    "# Decission Tree:"
   ]
  },
  {
   "cell_type": "code",
   "execution_count": 90,
   "id": "0c7514f6",
   "metadata": {
    "scrolled": true
   },
   "outputs": [
    {
     "name": "stdout",
     "output_type": "stream",
     "text": [
      "Max Depth = 1  -->  RMSE:  2556.2418321272166\n",
      "Max Depth = 2  -->  RMSE:  1692.594825562079\n",
      "Max Depth = 3  -->  RMSE:  1377.3895045281097\n",
      "Max Depth = 4  -->  RMSE:  1173.179041558432\n",
      "Max Depth = 5  -->  RMSE:  1012.8938469309877\n",
      "Max Depth = 6  -->  RMSE:  875.768671943671\n",
      "Max Depth = 7  -->  RMSE:  796.099885788222\n",
      "Max Depth = 8  -->  RMSE:  704.9897198199112\n",
      "Max Depth = 9  -->  RMSE:  655.2900214544294\n",
      "Max Depth = 10  -->  RMSE:  619.4049372491342\n",
      "Max Depth = 11  -->  RMSE:  604.2907875566599\n",
      "Max Depth = 12  -->  RMSE:  601.3268823366212\n",
      "Max Depth = 13  -->  RMSE:  628.0255544646831\n",
      "Max Depth = 14  -->  RMSE:  623.7840896141942\n",
      "Max Depth = 15  -->  RMSE:  653.3557181543457\n",
      "Max Depth = 16  -->  RMSE:  672.3131812355342\n",
      "Max Depth = 17  -->  RMSE:  689.0838053750151\n",
      "Max Depth = 18  -->  RMSE:  683.3976658694658\n",
      "Max Depth = 19  -->  RMSE:  687.340864630778\n"
     ]
    }
   ],
   "source": [
    "for i in range (1,20):\n",
    "    tree = DecisionTreeRegressor(max_depth=i)\n",
    "    tree.fit(X_train,y_train)\n",
    "    y_pred = tree.predict(X_test)\n",
    "    print(f\"Max Depth = {i}  -->  RMSE: \", np.sqrt(mean_squared_error(y_test,y_pred)))"
   ]
  },
  {
   "cell_type": "markdown",
   "id": "412c409f",
   "metadata": {},
   "source": [
    "Best RMSE comes with max_depth=12"
   ]
  },
  {
   "cell_type": "markdown",
   "id": "ecd6836f",
   "metadata": {},
   "source": [
    "# Gradient Boosting:"
   ]
  },
  {
   "cell_type": "code",
   "execution_count": 102,
   "id": "b1919315",
   "metadata": {},
   "outputs": [
    {
     "name": "stdout",
     "output_type": "stream",
     "text": [
      "n_estimators = 1000  -->  RMSE:  541.8914556072579\n",
      "n_estimators = 1100  -->  RMSE:  540.6034230906944\n",
      "n_estimators = 1200  -->  RMSE:  539.9719182706748\n"
     ]
    }
   ],
   "source": [
    "for i in [1000,1100,1200]:\n",
    "    grad = GradientBoostingRegressor(n_estimators=i)\n",
    "    grad.fit(X_train,y_train)\n",
    "    y_pred = grad.predict(X_test)\n",
    "    print(f\"n_estimators = {i}  -->  RMSE: \", np.sqrt(mean_squared_error(y_test,y_pred)))"
   ]
  },
  {
   "cell_type": "markdown",
   "id": "2fc13d69",
   "metadata": {},
   "source": [
    "Best RMSE comes with n_estimators="
   ]
  },
  {
   "cell_type": "markdown",
   "id": "d06be8e1",
   "metadata": {},
   "source": [
    "# Random Forest:"
   ]
  },
  {
   "cell_type": "code",
   "execution_count": 179,
   "id": "9a1509be",
   "metadata": {},
   "outputs": [
    {
     "name": "stdout",
     "output_type": "stream",
     "text": [
      "Max Depth = 10  -->  RMSE:  567.0975974273231\n",
      "Max Depth = 11  -->  RMSE:  554.739898495006\n",
      "Max Depth = 12  -->  RMSE:  551.8448938605571\n",
      "Max Depth = 13  -->  RMSE:  548.533422483643\n",
      "Max Depth = 14  -->  RMSE:  553.5306920597857\n"
     ]
    }
   ],
   "source": [
    "for i in range(10,15):\n",
    "    forest = RandomForestRegressor(max_depth=i)\n",
    "    forest.fit(X_train,y_train)\n",
    "    y_pred = forest.predict(X_test)\n",
    "    print(f\"Max Depth = {i}  -->  RMSE: \", np.sqrt(mean_squared_error(y_test,y_pred)))"
   ]
  },
  {
   "cell_type": "markdown",
   "id": "b0df12ce",
   "metadata": {},
   "source": [
    "Best RMSE comes with max_depth=13"
   ]
  },
  {
   "cell_type": "markdown",
   "id": "b960ffb8",
   "metadata": {},
   "source": [
    "Fixed max_depth=13, lets try different n_estimators:"
   ]
  },
  {
   "cell_type": "code",
   "execution_count": 181,
   "id": "38f1e45d",
   "metadata": {
    "scrolled": true
   },
   "outputs": [
    {
     "name": "stdout",
     "output_type": "stream",
     "text": [
      "Max Depth=13, n_stimators = 130  -->  RMSE:  548.822618214005\n",
      "Max Depth=13, n_stimators = 145  -->  RMSE:  548.2119707355079\n",
      "Max Depth=13, n_stimators = 150  -->  RMSE:  549.9468513737247\n"
     ]
    }
   ],
   "source": [
    "for i in [130,145,150]:\n",
    "    forest = RandomForestRegressor(max_depth=13,n_estimators=i)\n",
    "    forest.fit(X_train,y_train)\n",
    "    y_pred = forest.predict(X_test)\n",
    "    print(f\"Max Depth=13, n_stimators = {i}  -->  RMSE: \", np.sqrt(mean_squared_error(y_test,y_pred)))"
   ]
  },
  {
   "cell_type": "markdown",
   "id": "bf3bccf7",
   "metadata": {},
   "source": [
    "Best RMSE comes with max_depth=13 and n_estimators=145"
   ]
  },
  {
   "cell_type": "markdown",
   "id": "90f8b61c",
   "metadata": {},
   "source": [
    "### Seems like we can set almost infinite combinations of hyper-parameters.\n",
    "## Lets optimize that with a little help of GridSearchCV :"
   ]
  },
  {
   "cell_type": "markdown",
   "id": "9cc48a2a",
   "metadata": {},
   "source": [
    "Parameters for a RandomForest:"
   ]
  },
  {
   "cell_type": "code",
   "execution_count": 184,
   "id": "a8f99bdf",
   "metadata": {},
   "outputs": [],
   "source": [
    "parameters = {'bootstrap': [True, False],\n",
    "              'max_depth':[13],\n",
    "              'n_estimators':[145],\n",
    "              'max_features': ['auto', 'sqrt'],\n",
    "              'min_samples_leaf': [1, 2, 4],\n",
    "              'min_samples_split': [2, 5, 10]}"
   ]
  },
  {
   "cell_type": "code",
   "execution_count": 185,
   "id": "c780d8da",
   "metadata": {},
   "outputs": [],
   "source": [
    "rfr = RandomForestRegressor()"
   ]
  },
  {
   "cell_type": "code",
   "execution_count": 186,
   "id": "83a92b61",
   "metadata": {},
   "outputs": [],
   "source": [
    "grid = GridSearchCV(rfr, parameters, verbose=1)"
   ]
  },
  {
   "cell_type": "code",
   "execution_count": 123,
   "id": "08e7620a",
   "metadata": {},
   "outputs": [],
   "source": [
    "### beware that code line can take more than 1 hour to run!!"
   ]
  },
  {
   "cell_type": "code",
   "execution_count": 187,
   "id": "7470314b",
   "metadata": {
    "scrolled": true
   },
   "outputs": [
    {
     "name": "stdout",
     "output_type": "stream",
     "text": [
      "Fitting 5 folds for each of 36 candidates, totalling 180 fits\n"
     ]
    },
    {
     "data": {
      "text/plain": [
       "GridSearchCV(estimator=RandomForestRegressor(),\n",
       "             param_grid={'bootstrap': [True, False], 'max_depth': [13],\n",
       "                         'max_features': ['auto', 'sqrt'],\n",
       "                         'min_samples_leaf': [1, 2, 4],\n",
       "                         'min_samples_split': [2, 5, 10],\n",
       "                         'n_estimators': [145]},\n",
       "             verbose=1)"
      ]
     },
     "execution_count": 187,
     "metadata": {},
     "output_type": "execute_result"
    }
   ],
   "source": [
    "grid.fit(X_train,y_train)"
   ]
  },
  {
   "cell_type": "code",
   "execution_count": 188,
   "id": "499f3172",
   "metadata": {},
   "outputs": [
    {
     "name": "stdout",
     "output_type": "stream",
     "text": [
      "{'bootstrap': True, 'max_depth': 13, 'max_features': 'auto', 'min_samples_leaf': 2, 'min_samples_split': 5, 'n_estimators': 145}\n"
     ]
    }
   ],
   "source": [
    "print(grid.best_params_)"
   ]
  },
  {
   "cell_type": "markdown",
   "id": "ccbd423a",
   "metadata": {},
   "source": [
    "Lets re-fit the RandomForest:"
   ]
  },
  {
   "cell_type": "code",
   "execution_count": 189,
   "id": "f83d6b82",
   "metadata": {},
   "outputs": [],
   "source": [
    "forestGS = RandomForestRegressor(max_depth=13, n_estimators=145, bootstrap=True, max_features=\"auto\", min_samples_leaf=2, min_samples_split=5)"
   ]
  },
  {
   "cell_type": "markdown",
   "id": "c058b875",
   "metadata": {},
   "source": [
    "we fit the final model with the whole \"Train\" dataset:"
   ]
  },
  {
   "cell_type": "code",
   "execution_count": 190,
   "id": "9fb87efa",
   "metadata": {},
   "outputs": [
    {
     "name": "stdout",
     "output_type": "stream",
     "text": [
      "RMSE:  390.6116314561365\n"
     ]
    }
   ],
   "source": [
    "forestGS.fit(X,y)\n",
    "y_pred = forestGS.predict(X_test)\n",
    "print(f\"RMSE: \", np.sqrt(mean_squared_error(y_test,y_pred)))"
   ]
  },
  {
   "cell_type": "markdown",
   "id": "04480b23",
   "metadata": {},
   "source": [
    "# Saving and exporting my best model:"
   ]
  },
  {
   "cell_type": "code",
   "execution_count": 128,
   "id": "03557eee",
   "metadata": {},
   "outputs": [],
   "source": [
    "import pickle"
   ]
  },
  {
   "cell_type": "code",
   "execution_count": 192,
   "id": "0937b5c7",
   "metadata": {},
   "outputs": [],
   "source": [
    "pickle.dump(forestGS, open(\"Models/my_model_03\", 'wb'))"
   ]
  },
  {
   "cell_type": "code",
   "execution_count": null,
   "id": "3c16a6c0",
   "metadata": {},
   "outputs": [],
   "source": []
  }
 ],
 "metadata": {
  "kernelspec": {
   "display_name": "ironhack",
   "language": "python",
   "name": "ironhack"
  },
  "language_info": {
   "codemirror_mode": {
    "name": "ipython",
    "version": 3
   },
   "file_extension": ".py",
   "mimetype": "text/x-python",
   "name": "python",
   "nbconvert_exporter": "python",
   "pygments_lexer": "ipython3",
   "version": "3.8.12"
  }
 },
 "nbformat": 4,
 "nbformat_minor": 5
}
