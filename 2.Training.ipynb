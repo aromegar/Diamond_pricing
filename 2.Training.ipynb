{
 "cells": [
  {
   "cell_type": "markdown",
   "id": "906e28e4",
   "metadata": {},
   "source": [
    "# ***Training the Model***"
   ]
  },
  {
   "cell_type": "markdown",
   "id": "00a0335e",
   "metadata": {},
   "source": [
    "In this Jupyter we will try and test different models with different parameters to find the best model approach, using RMSE as indicator."
   ]
  },
  {
   "cell_type": "code",
   "execution_count": 89,
   "id": "b0bbec5c",
   "metadata": {},
   "outputs": [],
   "source": [
    "import pandas as pd\n",
    "import numpy as np\n",
    "\n",
    "from sklearn.linear_model import LinearRegression\n",
    "from sklearn.tree import DecisionTreeRegressor\n",
    "from sklearn.neighbors import KNeighborsRegressor\n",
    "from sklearn.ensemble import GradientBoostingRegressor\n",
    "from sklearn.ensemble import RandomForestRegressor\n",
    "\n",
    "from sklearn.model_selection import train_test_split\n",
    "from sklearn.model_selection import GridSearchCV\n",
    "from sklearn.metrics import mean_squared_error"
   ]
  },
  {
   "cell_type": "markdown",
   "id": "038069a7",
   "metadata": {},
   "source": [
    "# Lets import the clean data:"
   ]
  },
  {
   "cell_type": "code",
   "execution_count": 31,
   "id": "65971eeb",
   "metadata": {},
   "outputs": [
    {
     "data": {
      "text/html": [
       "<div>\n",
       "<style scoped>\n",
       "    .dataframe tbody tr th:only-of-type {\n",
       "        vertical-align: middle;\n",
       "    }\n",
       "\n",
       "    .dataframe tbody tr th {\n",
       "        vertical-align: top;\n",
       "    }\n",
       "\n",
       "    .dataframe thead th {\n",
       "        text-align: right;\n",
       "    }\n",
       "</style>\n",
       "<table border=\"1\" class=\"dataframe\">\n",
       "  <thead>\n",
       "    <tr style=\"text-align: right;\">\n",
       "      <th></th>\n",
       "      <th>id</th>\n",
       "      <th>carat</th>\n",
       "      <th>cut</th>\n",
       "      <th>color</th>\n",
       "      <th>clarity</th>\n",
       "      <th>depth</th>\n",
       "      <th>table</th>\n",
       "      <th>price</th>\n",
       "    </tr>\n",
       "  </thead>\n",
       "  <tbody>\n",
       "    <tr>\n",
       "      <th>0</th>\n",
       "      <td>0</td>\n",
       "      <td>1.14</td>\n",
       "      <td>5</td>\n",
       "      <td>4</td>\n",
       "      <td>9</td>\n",
       "      <td>61.0</td>\n",
       "      <td>56.0</td>\n",
       "      <td>9013</td>\n",
       "    </tr>\n",
       "    <tr>\n",
       "      <th>1</th>\n",
       "      <td>1</td>\n",
       "      <td>0.76</td>\n",
       "      <td>5</td>\n",
       "      <td>3</td>\n",
       "      <td>7</td>\n",
       "      <td>62.7</td>\n",
       "      <td>57.0</td>\n",
       "      <td>2692</td>\n",
       "    </tr>\n",
       "    <tr>\n",
       "      <th>2</th>\n",
       "      <td>2</td>\n",
       "      <td>0.84</td>\n",
       "      <td>5</td>\n",
       "      <td>4</td>\n",
       "      <td>8</td>\n",
       "      <td>61.4</td>\n",
       "      <td>56.0</td>\n",
       "      <td>4372</td>\n",
       "    </tr>\n",
       "    <tr>\n",
       "      <th>3</th>\n",
       "      <td>3</td>\n",
       "      <td>1.55</td>\n",
       "      <td>5</td>\n",
       "      <td>3</td>\n",
       "      <td>8</td>\n",
       "      <td>62.0</td>\n",
       "      <td>57.0</td>\n",
       "      <td>13665</td>\n",
       "    </tr>\n",
       "    <tr>\n",
       "      <th>4</th>\n",
       "      <td>4</td>\n",
       "      <td>0.30</td>\n",
       "      <td>5</td>\n",
       "      <td>4</td>\n",
       "      <td>5</td>\n",
       "      <td>61.9</td>\n",
       "      <td>57.0</td>\n",
       "      <td>422</td>\n",
       "    </tr>\n",
       "  </tbody>\n",
       "</table>\n",
       "</div>"
      ],
      "text/plain": [
       "   id  carat  cut  color  clarity  depth  table  price\n",
       "0   0   1.14    5      4        9   61.0   56.0   9013\n",
       "1   1   0.76    5      3        7   62.7   57.0   2692\n",
       "2   2   0.84    5      4        8   61.4   56.0   4372\n",
       "3   3   1.55    5      3        8   62.0   57.0  13665\n",
       "4   4   0.30    5      4        5   61.9   57.0    422"
      ]
     },
     "execution_count": 31,
     "metadata": {},
     "output_type": "execute_result"
    }
   ],
   "source": [
    "df = pd.read_csv(\"DATA/clean_data.csv\")\n",
    "df.head()"
   ]
  },
  {
   "cell_type": "markdown",
   "id": "8f88171c",
   "metadata": {},
   "source": [
    "# First, we split the DataFrame for train and test..."
   ]
  },
  {
   "cell_type": "code",
   "execution_count": 32,
   "id": "e345446c",
   "metadata": {},
   "outputs": [],
   "source": [
    "y=df[\"price\"]\n",
    "X=df.drop(columns=[\"price\",\"id\"])\n",
    "X_train, X_test, y_train, y_test = train_test_split(X,y, test_size=0.2)"
   ]
  },
  {
   "cell_type": "code",
   "execution_count": 33,
   "id": "58359032",
   "metadata": {},
   "outputs": [
    {
     "data": {
      "text/html": [
       "<div>\n",
       "<style scoped>\n",
       "    .dataframe tbody tr th:only-of-type {\n",
       "        vertical-align: middle;\n",
       "    }\n",
       "\n",
       "    .dataframe tbody tr th {\n",
       "        vertical-align: top;\n",
       "    }\n",
       "\n",
       "    .dataframe thead th {\n",
       "        text-align: right;\n",
       "    }\n",
       "</style>\n",
       "<table border=\"1\" class=\"dataframe\">\n",
       "  <thead>\n",
       "    <tr style=\"text-align: right;\">\n",
       "      <th></th>\n",
       "      <th>carat</th>\n",
       "      <th>cut</th>\n",
       "      <th>color</th>\n",
       "      <th>clarity</th>\n",
       "      <th>depth</th>\n",
       "      <th>table</th>\n",
       "    </tr>\n",
       "  </thead>\n",
       "  <tbody>\n",
       "    <tr>\n",
       "      <th>0</th>\n",
       "      <td>1.14</td>\n",
       "      <td>5</td>\n",
       "      <td>4</td>\n",
       "      <td>9</td>\n",
       "      <td>61.0</td>\n",
       "      <td>56.0</td>\n",
       "    </tr>\n",
       "    <tr>\n",
       "      <th>1</th>\n",
       "      <td>0.76</td>\n",
       "      <td>5</td>\n",
       "      <td>3</td>\n",
       "      <td>7</td>\n",
       "      <td>62.7</td>\n",
       "      <td>57.0</td>\n",
       "    </tr>\n",
       "    <tr>\n",
       "      <th>2</th>\n",
       "      <td>0.84</td>\n",
       "      <td>5</td>\n",
       "      <td>4</td>\n",
       "      <td>8</td>\n",
       "      <td>61.4</td>\n",
       "      <td>56.0</td>\n",
       "    </tr>\n",
       "    <tr>\n",
       "      <th>3</th>\n",
       "      <td>1.55</td>\n",
       "      <td>5</td>\n",
       "      <td>3</td>\n",
       "      <td>8</td>\n",
       "      <td>62.0</td>\n",
       "      <td>57.0</td>\n",
       "    </tr>\n",
       "    <tr>\n",
       "      <th>4</th>\n",
       "      <td>0.30</td>\n",
       "      <td>5</td>\n",
       "      <td>4</td>\n",
       "      <td>5</td>\n",
       "      <td>61.9</td>\n",
       "      <td>57.0</td>\n",
       "    </tr>\n",
       "  </tbody>\n",
       "</table>\n",
       "</div>"
      ],
      "text/plain": [
       "   carat  cut  color  clarity  depth  table\n",
       "0   1.14    5      4        9   61.0   56.0\n",
       "1   0.76    5      3        7   62.7   57.0\n",
       "2   0.84    5      4        8   61.4   56.0\n",
       "3   1.55    5      3        8   62.0   57.0\n",
       "4   0.30    5      4        5   61.9   57.0"
      ]
     },
     "execution_count": 33,
     "metadata": {},
     "output_type": "execute_result"
    }
   ],
   "source": [
    "X.head()"
   ]
  },
  {
   "cell_type": "code",
   "execution_count": 34,
   "id": "dc6ae9ac",
   "metadata": {},
   "outputs": [
    {
     "data": {
      "text/plain": [
       "0     9013\n",
       "1     2692\n",
       "2     4372\n",
       "3    13665\n",
       "4      422\n",
       "Name: price, dtype: int64"
      ]
     },
     "execution_count": 34,
     "metadata": {},
     "output_type": "execute_result"
    }
   ],
   "source": [
    "y.head()"
   ]
  },
  {
   "cell_type": "code",
   "execution_count": 35,
   "id": "813bb863",
   "metadata": {},
   "outputs": [
    {
     "data": {
      "text/plain": [
       "(40455, 6)"
      ]
     },
     "execution_count": 35,
     "metadata": {},
     "output_type": "execute_result"
    }
   ],
   "source": [
    "X.shape"
   ]
  },
  {
   "cell_type": "code",
   "execution_count": 36,
   "id": "a806d461",
   "metadata": {},
   "outputs": [
    {
     "data": {
      "text/plain": [
       "(40455,)"
      ]
     },
     "execution_count": 36,
     "metadata": {},
     "output_type": "execute_result"
    }
   ],
   "source": [
    "y.shape"
   ]
  },
  {
   "cell_type": "markdown",
   "id": "5c738fb1",
   "metadata": {},
   "source": [
    "# ...and prepare a series of different regression models:"
   ]
  },
  {
   "cell_type": "code",
   "execution_count": 86,
   "id": "2eedd284",
   "metadata": {},
   "outputs": [],
   "source": [
    "models={\n",
    "    \"Linear\" : LinearRegression(),\n",
    "    \"Dec Tree\" : DecisionTreeRegressor(),\n",
    "    \"KNeighb\" : KNeighborsRegressor(),\n",
    "    \"Grad\" : GradientBoostingRegressor(),\n",
    "    \"Random Forest\" : RandomForestRegressor()\n",
    "}"
   ]
  },
  {
   "cell_type": "code",
   "execution_count": 88,
   "id": "08e189e9",
   "metadata": {},
   "outputs": [
    {
     "name": "stdout",
     "output_type": "stream",
     "text": [
      "------Linear------\n",
      "RMSE :  1240.7525412254759\n",
      "_\n",
      "------Dec Tree------\n",
      "RMSE :  707.092855460467\n",
      "_\n",
      "------KNeighb------\n",
      "RMSE :  1947.0195638144364\n",
      "_\n",
      "------Grad------\n",
      "RMSE :  622.8015805037678\n",
      "_\n",
      "------Random Forest------\n",
      "RMSE :  542.5932241439061\n",
      "_\n"
     ]
    }
   ],
   "source": [
    "for name, model in models.items():\n",
    "    model.fit(X_train, y_train)\n",
    "    y_pred = model.predict(X_test)\n",
    "    print(f\"------{name}------\")\n",
    "    print('RMSE : ', np.sqrt(mean_squared_error(y_test, y_pred)))\n",
    "    print(\"_\")"
   ]
  },
  {
   "cell_type": "markdown",
   "id": "27c6514d",
   "metadata": {},
   "source": [
    "Decission tree, Gradient and Random Forest seems to be the best choices. Lets tune some hyperparameters for this models:"
   ]
  },
  {
   "cell_type": "markdown",
   "id": "0a4defb4",
   "metadata": {},
   "source": [
    "# Decission Tree:"
   ]
  },
  {
   "cell_type": "code",
   "execution_count": 90,
   "id": "03d8f899",
   "metadata": {
    "scrolled": true
   },
   "outputs": [
    {
     "name": "stdout",
     "output_type": "stream",
     "text": [
      "Max Depth = 1  -->  RMSE:  2556.2418321272166\n",
      "Max Depth = 2  -->  RMSE:  1692.594825562079\n",
      "Max Depth = 3  -->  RMSE:  1377.3895045281097\n",
      "Max Depth = 4  -->  RMSE:  1173.179041558432\n",
      "Max Depth = 5  -->  RMSE:  1012.8938469309877\n",
      "Max Depth = 6  -->  RMSE:  875.768671943671\n",
      "Max Depth = 7  -->  RMSE:  796.099885788222\n",
      "Max Depth = 8  -->  RMSE:  704.9897198199112\n",
      "Max Depth = 9  -->  RMSE:  655.2900214544294\n",
      "Max Depth = 10  -->  RMSE:  619.4049372491342\n",
      "Max Depth = 11  -->  RMSE:  604.2907875566599\n",
      "Max Depth = 12  -->  RMSE:  601.3268823366212\n",
      "Max Depth = 13  -->  RMSE:  628.0255544646831\n",
      "Max Depth = 14  -->  RMSE:  623.7840896141942\n",
      "Max Depth = 15  -->  RMSE:  653.3557181543457\n",
      "Max Depth = 16  -->  RMSE:  672.3131812355342\n",
      "Max Depth = 17  -->  RMSE:  689.0838053750151\n",
      "Max Depth = 18  -->  RMSE:  683.3976658694658\n",
      "Max Depth = 19  -->  RMSE:  687.340864630778\n"
     ]
    }
   ],
   "source": [
    "for i in range (1,20):\n",
    "    tree = DecisionTreeRegressor(max_depth=i)\n",
    "    tree.fit(X_train,y_train)\n",
    "    y_pred = tree.predict(X_test)\n",
    "    print(f\"Max Depth = {i}  -->  RMSE: \", np.sqrt(mean_squared_error(y_test,y_pred)))"
   ]
  },
  {
   "cell_type": "markdown",
   "id": "d4a30b3c",
   "metadata": {},
   "source": [
    "Best RMSE comes with max_depth=12"
   ]
  },
  {
   "cell_type": "markdown",
   "id": "f905e047",
   "metadata": {},
   "source": [
    "# Gradient Boosting:"
   ]
  },
  {
   "cell_type": "code",
   "execution_count": 102,
   "id": "6492ee98",
   "metadata": {},
   "outputs": [
    {
     "name": "stdout",
     "output_type": "stream",
     "text": [
      "n_estimators = 1000  -->  RMSE:  541.8914556072579\n",
      "n_estimators = 1100  -->  RMSE:  540.6034230906944\n",
      "n_estimators = 1200  -->  RMSE:  539.9719182706748\n"
     ]
    }
   ],
   "source": [
    "for i in [1000,1100,1200]:\n",
    "    grad = GradientBoostingRegressor(n_estimators=i)\n",
    "    grad.fit(X_train,y_train)\n",
    "    y_pred = grad.predict(X_test)\n",
    "    print(f\"n_estimators = {i}  -->  RMSE: \", np.sqrt(mean_squared_error(y_test,y_pred)))"
   ]
  },
  {
   "cell_type": "markdown",
   "id": "21705188",
   "metadata": {},
   "source": [
    "Best RMSE comes with n_estimators="
   ]
  },
  {
   "cell_type": "markdown",
   "id": "d8d91c6c",
   "metadata": {},
   "source": [
    "# Random Forest:"
   ]
  },
  {
   "cell_type": "code",
   "execution_count": 81,
   "id": "c640da3e",
   "metadata": {},
   "outputs": [
    {
     "name": "stdout",
     "output_type": "stream",
     "text": [
      "Max Depth = 12  -->  RMSE:  540.7544380257997\n",
      "Max Depth = 13  -->  RMSE:  536.8425996690071\n",
      "Max Depth = 14  -->  RMSE:  537.8256841050809\n",
      "Max Depth = 15  -->  RMSE:  539.2720903620158\n",
      "Max Depth = 16  -->  RMSE:  539.4178061900482\n",
      "Max Depth = 17  -->  RMSE:  539.4740312642746\n",
      "Max Depth = 18  -->  RMSE:  538.8441729204425\n",
      "Max Depth = 19  -->  RMSE:  541.2236025978418\n",
      "Max Depth = 20  -->  RMSE:  542.7489124731181\n",
      "Max Depth = 21  -->  RMSE:  542.6827399020762\n",
      "Max Depth = 22  -->  RMSE:  543.226452410092\n",
      "Max Depth = 23  -->  RMSE:  541.9298874779803\n",
      "Max Depth = 24  -->  RMSE:  541.6672664794535\n"
     ]
    }
   ],
   "source": [
    "for i in range(12,25):\n",
    "    forest = RandomForestRegressor(max_depth=i)\n",
    "    forest.fit(X_train,y_train)\n",
    "    y_pred = forest.predict(X_test)\n",
    "    print(f\"Max Depth = {i}  -->  RMSE: \", np.sqrt(mean_squared_error(y_test,y_pred)))"
   ]
  },
  {
   "cell_type": "markdown",
   "id": "48e46dbe",
   "metadata": {},
   "source": [
    "Best RMSE comes with max_depth=18"
   ]
  },
  {
   "cell_type": "markdown",
   "id": "8ddc80b0",
   "metadata": {},
   "source": [
    "Fixed max_depth=18, lets try different n_estimators:"
   ]
  },
  {
   "cell_type": "code",
   "execution_count": 101,
   "id": "80568cc6",
   "metadata": {
    "scrolled": true
   },
   "outputs": [
    {
     "name": "stdout",
     "output_type": "stream",
     "text": [
      "Max Depth=18, n_stimators = 120  -->  RMSE:  539.778452725323\n",
      "Max Depth=18, n_stimators = 130  -->  RMSE:  537.6049987198777\n",
      "Max Depth=18, n_stimators = 140  -->  RMSE:  539.3855437020056\n",
      "Max Depth=18, n_stimators = 150  -->  RMSE:  540.7845144840555\n",
      "Max Depth=18, n_stimators = 200  -->  RMSE:  540.3556017557063\n"
     ]
    }
   ],
   "source": [
    "for i in [120,130,140,150,200]:\n",
    "    forest = RandomForestRegressor(max_depth=18,n_estimators=i)\n",
    "    forest.fit(X_train,y_train)\n",
    "    y_pred = forest.predict(X_test)\n",
    "    print(f\"Max Depth=18, n_stimators = {i}  -->  RMSE: \", np.sqrt(mean_squared_error(y_test,y_pred)))"
   ]
  },
  {
   "cell_type": "markdown",
   "id": "4149b80d",
   "metadata": {},
   "source": [
    "Best RMSE comes with max_depth=18 and n_estimators=130"
   ]
  },
  {
   "cell_type": "markdown",
   "id": "5d27bc03",
   "metadata": {},
   "source": [
    "### Seems like we can set almost infinite combinations of hyper-parameters.\n",
    "## Lets optimize that with a little help of GridSearchCV :"
   ]
  },
  {
   "cell_type": "markdown",
   "id": "cc6e6da7",
   "metadata": {},
   "source": [
    "Parameters for a RandomForest:"
   ]
  },
  {
   "cell_type": "code",
   "execution_count": 113,
   "id": "d403ecf8",
   "metadata": {},
   "outputs": [],
   "source": [
    "parameters = {'bootstrap': [True, False],\n",
    "              'max_features': ['auto', 'sqrt'],\n",
    "              'min_samples_leaf': [1, 2, 4],\n",
    "              'min_samples_split': [2, 5, 10]}"
   ]
  },
  {
   "cell_type": "code",
   "execution_count": 114,
   "id": "1f661643",
   "metadata": {},
   "outputs": [],
   "source": [
    "rfr = RandomForestRegressor()"
   ]
  },
  {
   "cell_type": "code",
   "execution_count": 115,
   "id": "b2538322",
   "metadata": {},
   "outputs": [],
   "source": [
    "grid = GridSearchCV(rfr, parameters, verbose=1)"
   ]
  },
  {
   "cell_type": "code",
   "execution_count": 123,
   "id": "726c31a1",
   "metadata": {},
   "outputs": [],
   "source": [
    "### beware that code line can take more than 1 hour to run!!"
   ]
  },
  {
   "cell_type": "code",
   "execution_count": 116,
   "id": "7fbb7b31",
   "metadata": {
    "scrolled": true
   },
   "outputs": [
    {
     "name": "stdout",
     "output_type": "stream",
     "text": [
      "Fitting 5 folds for each of 36 candidates, totalling 180 fits\n"
     ]
    },
    {
     "data": {
      "text/plain": [
       "GridSearchCV(estimator=RandomForestRegressor(),\n",
       "             param_grid={'bootstrap': [True, False],\n",
       "                         'max_features': ['auto', 'sqrt'],\n",
       "                         'min_samples_leaf': [1, 2, 4],\n",
       "                         'min_samples_split': [2, 5, 10]},\n",
       "             verbose=1)"
      ]
     },
     "execution_count": 116,
     "metadata": {},
     "output_type": "execute_result"
    }
   ],
   "source": [
    "grid.fit(X_train,y_train)"
   ]
  },
  {
   "cell_type": "code",
   "execution_count": 117,
   "id": "27be024f",
   "metadata": {},
   "outputs": [
    {
     "name": "stdout",
     "output_type": "stream",
     "text": [
      "{'bootstrap': True, 'max_features': 'auto', 'min_samples_leaf': 2, 'min_samples_split': 10}\n"
     ]
    }
   ],
   "source": [
    "print(grid.best_params_)"
   ]
  },
  {
   "cell_type": "markdown",
   "id": "cab26425",
   "metadata": {},
   "source": [
    "Lets re-fit the RandomForest:"
   ]
  },
  {
   "cell_type": "code",
   "execution_count": 124,
   "id": "2dbafd1c",
   "metadata": {},
   "outputs": [],
   "source": [
    "forestGS = RandomForestRegressor(max_depth=18, n_estimators=130, bootstrap=True, max_features=\"auto\", min_samples_leaf=2, min_samples_split=10)"
   ]
  },
  {
   "cell_type": "markdown",
   "id": "a1bb1074",
   "metadata": {},
   "source": [
    "we fit the final model with the whole \"Train\" dataset:"
   ]
  },
  {
   "cell_type": "code",
   "execution_count": 127,
   "id": "0ae63bd3",
   "metadata": {},
   "outputs": [
    {
     "name": "stdout",
     "output_type": "stream",
     "text": [
      "RMSE:  372.6392772026178\n"
     ]
    }
   ],
   "source": [
    "forestGS.fit(X,y)\n",
    "y_pred = forestGS.predict(X_test)\n",
    "print(f\"RMSE: \", np.sqrt(mean_squared_error(y_test,y_pred)))"
   ]
  },
  {
   "cell_type": "markdown",
   "id": "5429b114",
   "metadata": {},
   "source": [
    "# Saving and exporting my best model:"
   ]
  },
  {
   "cell_type": "code",
   "execution_count": 128,
   "id": "f73c215c",
   "metadata": {},
   "outputs": [],
   "source": [
    "import pickle"
   ]
  },
  {
   "cell_type": "code",
   "execution_count": 131,
   "id": "4f8ca6bf",
   "metadata": {},
   "outputs": [],
   "source": [
    "pickle.dump(forestGS, open(\"Models/my_model_01\", 'wb'))"
   ]
  },
  {
   "cell_type": "code",
   "execution_count": null,
   "id": "3f4d6e83",
   "metadata": {},
   "outputs": [],
   "source": []
  }
 ],
 "metadata": {
  "kernelspec": {
   "display_name": "ironhack",
   "language": "python",
   "name": "ironhack"
  },
  "language_info": {
   "codemirror_mode": {
    "name": "ipython",
    "version": 3
   },
   "file_extension": ".py",
   "mimetype": "text/x-python",
   "name": "python",
   "nbconvert_exporter": "python",
   "pygments_lexer": "ipython3",
   "version": "3.8.12"
  }
 },
 "nbformat": 4,
 "nbformat_minor": 5
}
