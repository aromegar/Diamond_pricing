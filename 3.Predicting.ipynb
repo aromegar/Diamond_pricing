{
 "cells": [
  {
   "cell_type": "markdown",
   "id": "0476e9aa",
   "metadata": {},
   "source": [
    "# ***Making a prediction***"
   ]
  },
  {
   "cell_type": "markdown",
   "id": "5f611c5d",
   "metadata": {},
   "source": [
    "In this Jupyter we make a prediction from the test dataset, using the model we have prepared in the previous notebook."
   ]
  },
  {
   "cell_type": "code",
   "execution_count": 48,
   "id": "f372dbc2",
   "metadata": {},
   "outputs": [],
   "source": [
    "import pandas as pd\n",
    "import pickle"
   ]
  },
  {
   "cell_type": "code",
   "execution_count": 98,
   "id": "89e11074",
   "metadata": {},
   "outputs": [],
   "source": [
    "modelname=\"my_model_03\"\n",
    "filename=\"submission_03.csv\""
   ]
  },
  {
   "cell_type": "markdown",
   "id": "b3020082",
   "metadata": {},
   "source": [
    "## Importing the data and the model:"
   ]
  },
  {
   "cell_type": "code",
   "execution_count": 87,
   "id": "b787f670",
   "metadata": {
    "scrolled": true
   },
   "outputs": [
    {
     "data": {
      "text/html": [
       "<div>\n",
       "<style scoped>\n",
       "    .dataframe tbody tr th:only-of-type {\n",
       "        vertical-align: middle;\n",
       "    }\n",
       "\n",
       "    .dataframe tbody tr th {\n",
       "        vertical-align: top;\n",
       "    }\n",
       "\n",
       "    .dataframe thead th {\n",
       "        text-align: right;\n",
       "    }\n",
       "</style>\n",
       "<table border=\"1\" class=\"dataframe\">\n",
       "  <thead>\n",
       "    <tr style=\"text-align: right;\">\n",
       "      <th></th>\n",
       "      <th>id</th>\n",
       "      <th>carat</th>\n",
       "      <th>cut</th>\n",
       "      <th>color</th>\n",
       "      <th>clarity</th>\n",
       "      <th>depth</th>\n",
       "      <th>table</th>\n",
       "      <th>x</th>\n",
       "      <th>y</th>\n",
       "      <th>z</th>\n",
       "    </tr>\n",
       "  </thead>\n",
       "  <tbody>\n",
       "    <tr>\n",
       "      <th>0</th>\n",
       "      <td>0</td>\n",
       "      <td>1.00</td>\n",
       "      <td>Fair</td>\n",
       "      <td>J</td>\n",
       "      <td>SI2</td>\n",
       "      <td>56.3</td>\n",
       "      <td>64.0</td>\n",
       "      <td>6.58</td>\n",
       "      <td>6.54</td>\n",
       "      <td>3.69</td>\n",
       "    </tr>\n",
       "    <tr>\n",
       "      <th>1</th>\n",
       "      <td>1</td>\n",
       "      <td>0.83</td>\n",
       "      <td>Premium</td>\n",
       "      <td>G</td>\n",
       "      <td>SI1</td>\n",
       "      <td>62.3</td>\n",
       "      <td>58.0</td>\n",
       "      <td>6.01</td>\n",
       "      <td>5.97</td>\n",
       "      <td>3.73</td>\n",
       "    </tr>\n",
       "    <tr>\n",
       "      <th>2</th>\n",
       "      <td>2</td>\n",
       "      <td>1.00</td>\n",
       "      <td>Fair</td>\n",
       "      <td>E</td>\n",
       "      <td>SI2</td>\n",
       "      <td>67.0</td>\n",
       "      <td>53.0</td>\n",
       "      <td>6.19</td>\n",
       "      <td>6.13</td>\n",
       "      <td>4.13</td>\n",
       "    </tr>\n",
       "    <tr>\n",
       "      <th>3</th>\n",
       "      <td>3</td>\n",
       "      <td>1.00</td>\n",
       "      <td>Fair</td>\n",
       "      <td>H</td>\n",
       "      <td>SI2</td>\n",
       "      <td>66.5</td>\n",
       "      <td>62.0</td>\n",
       "      <td>6.19</td>\n",
       "      <td>6.10</td>\n",
       "      <td>4.09</td>\n",
       "    </tr>\n",
       "    <tr>\n",
       "      <th>4</th>\n",
       "      <td>4</td>\n",
       "      <td>1.20</td>\n",
       "      <td>Very Good</td>\n",
       "      <td>I</td>\n",
       "      <td>SI1</td>\n",
       "      <td>62.6</td>\n",
       "      <td>57.0</td>\n",
       "      <td>6.74</td>\n",
       "      <td>6.77</td>\n",
       "      <td>4.23</td>\n",
       "    </tr>\n",
       "  </tbody>\n",
       "</table>\n",
       "</div>"
      ],
      "text/plain": [
       "   id  carat        cut color clarity  depth  table     x     y     z\n",
       "0   0   1.00       Fair     J     SI2   56.3   64.0  6.58  6.54  3.69\n",
       "1   1   0.83    Premium     G     SI1   62.3   58.0  6.01  5.97  3.73\n",
       "2   2   1.00       Fair     E     SI2   67.0   53.0  6.19  6.13  4.13\n",
       "3   3   1.00       Fair     H     SI2   66.5   62.0  6.19  6.10  4.09\n",
       "4   4   1.20  Very Good     I     SI1   62.6   57.0  6.74  6.77  4.23"
      ]
     },
     "execution_count": 87,
     "metadata": {},
     "output_type": "execute_result"
    }
   ],
   "source": [
    "test = pd.read_csv(\"DATA/test.csv\")\n",
    "test.head()"
   ]
  },
  {
   "cell_type": "code",
   "execution_count": 88,
   "id": "079695be",
   "metadata": {},
   "outputs": [],
   "source": [
    "submission = pd.DataFrame(test.id)"
   ]
  },
  {
   "cell_type": "markdown",
   "id": "92f80346",
   "metadata": {},
   "source": [
    "Before making the prediction we have to format the Test DF the same way we did with the Train one:"
   ]
  },
  {
   "cell_type": "code",
   "execution_count": 89,
   "id": "29bb2a4b",
   "metadata": {},
   "outputs": [],
   "source": [
    "test.drop(columns=[\"id\"], inplace=True)"
   ]
  },
  {
   "cell_type": "code",
   "execution_count": 90,
   "id": "a90d9973",
   "metadata": {},
   "outputs": [],
   "source": [
    "test.drop(columns=[\"x\",\"y\",\"z\"], inplace=True)"
   ]
  },
  {
   "cell_type": "code",
   "execution_count": 91,
   "id": "63703222",
   "metadata": {},
   "outputs": [],
   "source": [
    "cutval = {\"Fair\":1, \"Good\":2, \"Very Good\":3, \"Premium\":4, \"Ideal\":5}"
   ]
  },
  {
   "cell_type": "code",
   "execution_count": 92,
   "id": "bb972aaf",
   "metadata": {},
   "outputs": [],
   "source": [
    "test.cut = test.cut.apply(lambda x: cutval[x])"
   ]
  },
  {
   "cell_type": "code",
   "execution_count": 93,
   "id": "7f2c5d28",
   "metadata": {},
   "outputs": [],
   "source": [
    "clarval = {\"FL\":12, \"IF\":11, \"VVS1\":10, \"VVS2\":9, \"VS1\":8, \"VS2\":7, \"SI1\":6, \"SI2\":5, \"SI3\":4, \"I1\":3, \"I2\":2, \"I3\":1}"
   ]
  },
  {
   "cell_type": "code",
   "execution_count": 94,
   "id": "6eba4388",
   "metadata": {},
   "outputs": [],
   "source": [
    "test.clarity = test.clarity.apply(lambda x: clarval[x])"
   ]
  },
  {
   "cell_type": "code",
   "execution_count": 95,
   "id": "97d1dfe3",
   "metadata": {},
   "outputs": [],
   "source": [
    "colval = {\"D\":100, \"E\":93, \"F\":85, \"G\":77, \"H\":66, \"I\":53, \"J\":44}"
   ]
  },
  {
   "cell_type": "code",
   "execution_count": 96,
   "id": "6514e0ef",
   "metadata": {},
   "outputs": [],
   "source": [
    "test.color = test.color.apply(lambda x: colval[x])"
   ]
  },
  {
   "cell_type": "code",
   "execution_count": 97,
   "id": "be1feaae",
   "metadata": {},
   "outputs": [
    {
     "data": {
      "text/html": [
       "<div>\n",
       "<style scoped>\n",
       "    .dataframe tbody tr th:only-of-type {\n",
       "        vertical-align: middle;\n",
       "    }\n",
       "\n",
       "    .dataframe tbody tr th {\n",
       "        vertical-align: top;\n",
       "    }\n",
       "\n",
       "    .dataframe thead th {\n",
       "        text-align: right;\n",
       "    }\n",
       "</style>\n",
       "<table border=\"1\" class=\"dataframe\">\n",
       "  <thead>\n",
       "    <tr style=\"text-align: right;\">\n",
       "      <th></th>\n",
       "      <th>carat</th>\n",
       "      <th>cut</th>\n",
       "      <th>color</th>\n",
       "      <th>clarity</th>\n",
       "      <th>depth</th>\n",
       "      <th>table</th>\n",
       "    </tr>\n",
       "  </thead>\n",
       "  <tbody>\n",
       "    <tr>\n",
       "      <th>0</th>\n",
       "      <td>1.00</td>\n",
       "      <td>1</td>\n",
       "      <td>44</td>\n",
       "      <td>5</td>\n",
       "      <td>56.3</td>\n",
       "      <td>64.0</td>\n",
       "    </tr>\n",
       "    <tr>\n",
       "      <th>1</th>\n",
       "      <td>0.83</td>\n",
       "      <td>4</td>\n",
       "      <td>77</td>\n",
       "      <td>6</td>\n",
       "      <td>62.3</td>\n",
       "      <td>58.0</td>\n",
       "    </tr>\n",
       "    <tr>\n",
       "      <th>2</th>\n",
       "      <td>1.00</td>\n",
       "      <td>1</td>\n",
       "      <td>93</td>\n",
       "      <td>5</td>\n",
       "      <td>67.0</td>\n",
       "      <td>53.0</td>\n",
       "    </tr>\n",
       "    <tr>\n",
       "      <th>3</th>\n",
       "      <td>1.00</td>\n",
       "      <td>1</td>\n",
       "      <td>66</td>\n",
       "      <td>5</td>\n",
       "      <td>66.5</td>\n",
       "      <td>62.0</td>\n",
       "    </tr>\n",
       "    <tr>\n",
       "      <th>4</th>\n",
       "      <td>1.20</td>\n",
       "      <td>3</td>\n",
       "      <td>53</td>\n",
       "      <td>6</td>\n",
       "      <td>62.6</td>\n",
       "      <td>57.0</td>\n",
       "    </tr>\n",
       "  </tbody>\n",
       "</table>\n",
       "</div>"
      ],
      "text/plain": [
       "   carat  cut  color  clarity  depth  table\n",
       "0   1.00    1     44        5   56.3   64.0\n",
       "1   0.83    4     77        6   62.3   58.0\n",
       "2   1.00    1     93        5   67.0   53.0\n",
       "3   1.00    1     66        5   66.5   62.0\n",
       "4   1.20    3     53        6   62.6   57.0"
      ]
     },
     "execution_count": 97,
     "metadata": {},
     "output_type": "execute_result"
    }
   ],
   "source": [
    "test.head()"
   ]
  },
  {
   "cell_type": "markdown",
   "id": "1b01d729",
   "metadata": {},
   "source": [
    "now we can make a prediction for the Test dataset:"
   ]
  },
  {
   "cell_type": "code",
   "execution_count": 99,
   "id": "d45ccada",
   "metadata": {},
   "outputs": [],
   "source": [
    "mymodel = pickle.load(open(f\"Models/{modelname}\", 'rb'))"
   ]
  },
  {
   "cell_type": "code",
   "execution_count": 100,
   "id": "be0d614b",
   "metadata": {},
   "outputs": [],
   "source": [
    "submission[\"price\"] = mymodel.predict(test)"
   ]
  },
  {
   "cell_type": "code",
   "execution_count": 101,
   "id": "e9e34dc5",
   "metadata": {},
   "outputs": [
    {
     "data": {
      "text/html": [
       "<div>\n",
       "<style scoped>\n",
       "    .dataframe tbody tr th:only-of-type {\n",
       "        vertical-align: middle;\n",
       "    }\n",
       "\n",
       "    .dataframe tbody tr th {\n",
       "        vertical-align: top;\n",
       "    }\n",
       "\n",
       "    .dataframe thead th {\n",
       "        text-align: right;\n",
       "    }\n",
       "</style>\n",
       "<table border=\"1\" class=\"dataframe\">\n",
       "  <thead>\n",
       "    <tr style=\"text-align: right;\">\n",
       "      <th></th>\n",
       "      <th>id</th>\n",
       "      <th>price</th>\n",
       "    </tr>\n",
       "  </thead>\n",
       "  <tbody>\n",
       "    <tr>\n",
       "      <th>0</th>\n",
       "      <td>0</td>\n",
       "      <td>3280.932530</td>\n",
       "    </tr>\n",
       "    <tr>\n",
       "      <th>1</th>\n",
       "      <td>1</td>\n",
       "      <td>3034.520746</td>\n",
       "    </tr>\n",
       "    <tr>\n",
       "      <th>2</th>\n",
       "      <td>2</td>\n",
       "      <td>3350.497942</td>\n",
       "    </tr>\n",
       "    <tr>\n",
       "      <th>3</th>\n",
       "      <td>3</td>\n",
       "      <td>3275.866722</td>\n",
       "    </tr>\n",
       "    <tr>\n",
       "      <th>4</th>\n",
       "      <td>4</td>\n",
       "      <td>5316.981072</td>\n",
       "    </tr>\n",
       "  </tbody>\n",
       "</table>\n",
       "</div>"
      ],
      "text/plain": [
       "   id        price\n",
       "0   0  3280.932530\n",
       "1   1  3034.520746\n",
       "2   2  3350.497942\n",
       "3   3  3275.866722\n",
       "4   4  5316.981072"
      ]
     },
     "execution_count": 101,
     "metadata": {},
     "output_type": "execute_result"
    }
   ],
   "source": [
    "submission.head()"
   ]
  },
  {
   "cell_type": "code",
   "execution_count": 102,
   "id": "50b2ddb6",
   "metadata": {},
   "outputs": [],
   "source": [
    "submission.to_csv(f\"Submissions/{filename}\", index=False)"
   ]
  },
  {
   "cell_type": "code",
   "execution_count": null,
   "id": "c8741f61",
   "metadata": {},
   "outputs": [],
   "source": []
  }
 ],
 "metadata": {
  "kernelspec": {
   "display_name": "ironhack",
   "language": "python",
   "name": "ironhack"
  },
  "language_info": {
   "codemirror_mode": {
    "name": "ipython",
    "version": 3
   },
   "file_extension": ".py",
   "mimetype": "text/x-python",
   "name": "python",
   "nbconvert_exporter": "python",
   "pygments_lexer": "ipython3",
   "version": "3.8.12"
  }
 },
 "nbformat": 4,
 "nbformat_minor": 5
}
